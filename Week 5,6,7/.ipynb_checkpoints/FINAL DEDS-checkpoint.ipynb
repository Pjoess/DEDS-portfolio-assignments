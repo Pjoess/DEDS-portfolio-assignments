{
 "cells": [
  {
   "cell_type": "code",
   "execution_count": 1,
   "id": "71efd16d",
   "metadata": {},
   "outputs": [],
   "source": [
    "import pandas as pd\n",
    "import pyodbc\n",
    "from ydata_profiling import ProfileReport"
   ]
  },
  {
   "cell_type": "code",
   "execution_count": 2,
   "id": "cf7370f3",
   "metadata": {},
   "outputs": [],
   "source": [
    "sales_conn = pyodbc.connect(r'Driver={Microsoft Access Driver (*.mdb, *.accdb)};DBQ=C:/Users/Tim/Desktop/GO-databases DEDS-week 4 & 5/go_sales.accdb;')\n",
    "staff_conn = pyodbc.connect(r'Driver={Microsoft Access Driver (*.mdb, *.accdb)};DBQ=C:/Users/Tim/Desktop/GO-databases DEDS-week 4 & 5/go_staff.accdb;')\n",
    "crm_conn = pyodbc.connect(r'Driver={Microsoft Access Driver (*.mdb, *.accdb)};DBQ=C:/Users/Tim/Desktop/GO-databases DEDS-week 4 & 5/go_crm.accdb;')\n"
   ]
  },
  {
   "cell_type": "code",
   "execution_count": 3,
   "id": "226bb786",
   "metadata": {},
   "outputs": [
    {
     "name": "stderr",
     "output_type": "stream",
     "text": [
      "C:\\Users\\Tim\\anaconda3\\lib\\site-packages\\pandas\\io\\sql.py:762: UserWarning: pandas only support SQLAlchemy connectable(engine/connection) ordatabase string URI or sqlite3 DBAPI2 connectionother DBAPI2 objects are not tested, please consider using SQLAlchemy\n",
      "  warnings.warn(\n"
     ]
    }
   ],
   "source": [
    "product = pd.read_sql(\"SELECT * FROM product\", sales_conn)\n"
   ]
  },
  {
   "cell_type": "code",
   "execution_count": 4,
   "id": "0a18b929",
   "metadata": {},
   "outputs": [
    {
     "name": "stderr",
     "output_type": "stream",
     "text": [
      "C:\\Users\\Tim\\anaconda3\\lib\\site-packages\\pandas\\io\\sql.py:762: UserWarning: pandas only support SQLAlchemy connectable(engine/connection) ordatabase string URI or sqlite3 DBAPI2 connectionother DBAPI2 objects are not tested, please consider using SQLAlchemy\n",
      "  warnings.warn(\n"
     ]
    }
   ],
   "source": [
    "types = pd.read_sql(\"SELECT * FROM product_type\", sales_conn)\n"
   ]
  },
  {
   "cell_type": "code",
   "execution_count": 5,
   "id": "195c855f",
   "metadata": {},
   "outputs": [
    {
     "name": "stderr",
     "output_type": "stream",
     "text": [
      "C:\\Users\\Tim\\anaconda3\\lib\\site-packages\\pandas\\io\\sql.py:762: UserWarning: pandas only support SQLAlchemy connectable(engine/connection) ordatabase string URI or sqlite3 DBAPI2 connectionother DBAPI2 objects are not tested, please consider using SQLAlchemy\n",
      "  warnings.warn(\n"
     ]
    }
   ],
   "source": [
    "orders = pd.read_sql(\"SELECT * FROM order_header\", sales_conn)\n"
   ]
  },
  {
   "cell_type": "code",
   "execution_count": null,
   "id": "18711b62",
   "metadata": {},
   "outputs": [],
   "source": []
  },
  {
   "cell_type": "code",
   "execution_count": 6,
   "id": "e0293d5f",
   "metadata": {},
   "outputs": [],
   "source": [
    "joined = pd.merge(product, types, on = 'PRODUCT_TYPE_CODE', how = 'inner')\n"
   ]
  },
  {
   "cell_type": "code",
   "execution_count": 7,
   "id": "840c8431",
   "metadata": {},
   "outputs": [],
   "source": [
    "product_ster = joined.drop(['LANGUAGE','PRODUCT_IMAGE','INTRODUCTION_DATE','PRODUCTION_COST','MARGIN','DESCRIPTION','PRODUCT_LINE_CODE'], axis = 1)\n"
   ]
  },
  {
   "cell_type": "code",
   "execution_count": 8,
   "id": "cce20cb5",
   "metadata": {},
   "outputs": [],
   "source": [
    "verkoper = orders.drop(['RETAILER_CONTACT_CODE', 'SALES_STAFF_CODE', 'SALES_BRANCH_CODE', 'ORDER_DATE', 'ORDER_METHOD_CODE'], axis = 1)\n"
   ]
  },
  {
   "cell_type": "code",
   "execution_count": 9,
   "id": "a10779a6",
   "metadata": {},
   "outputs": [
    {
     "name": "stderr",
     "output_type": "stream",
     "text": [
      "C:\\Users\\Tim\\anaconda3\\lib\\site-packages\\pandas\\io\\sql.py:762: UserWarning: pandas only support SQLAlchemy connectable(engine/connection) ordatabase string URI or sqlite3 DBAPI2 connectionother DBAPI2 objects are not tested, please consider using SQLAlchemy\n",
      "  warnings.warn(\n"
     ]
    }
   ],
   "source": [
    "reden = pd.read_sql(\"SELECT * FROM return_reason\", sales_conn)\n"
   ]
  },
  {
   "cell_type": "code",
   "execution_count": 10,
   "id": "37fb607b",
   "metadata": {},
   "outputs": [],
   "source": [
    "datum = orders.drop(['ORDER_NUMBER', 'RETAILER_NAME', 'RETAILER_SITE_CODE', 'RETAILER_CONTACT_CODE', 'SALES_STAFF_CODE', 'SALES_BRANCH_CODE', 'ORDER_METHOD_CODE'], axis = 1)\n"
   ]
  },
  {
   "cell_type": "code",
   "execution_count": 11,
   "id": "78049265",
   "metadata": {},
   "outputs": [],
   "source": [
    "datum[\"YEAR\"] = datum[\"ORDER_DATE\"].dt.year\n",
    "datum[\"MONTH\"] = datum[\"ORDER_DATE\"].dt.month\n",
    "datum[\"DAY\"] = datum[\"ORDER_DATE\"].dt.day\n"
   ]
  },
  {
   "cell_type": "code",
   "execution_count": 12,
   "id": "95e7a910",
   "metadata": {},
   "outputs": [
    {
     "name": "stderr",
     "output_type": "stream",
     "text": [
      "C:\\Users\\Tim\\anaconda3\\lib\\site-packages\\pandas\\io\\sql.py:762: UserWarning: pandas only support SQLAlchemy connectable(engine/connection) ordatabase string URI or sqlite3 DBAPI2 connectionother DBAPI2 objects are not tested, please consider using SQLAlchemy\n",
      "  warnings.warn(\n"
     ]
    }
   ],
   "source": [
    "order_details = pd.read_sql(\"SELECT * FROM order_details\", sales_conn)\n"
   ]
  },
  {
   "cell_type": "code",
   "execution_count": 13,
   "id": "f3c35c91",
   "metadata": {},
   "outputs": [
    {
     "name": "stderr",
     "output_type": "stream",
     "text": [
      "C:\\Users\\Tim\\anaconda3\\lib\\site-packages\\pandas\\io\\sql.py:762: UserWarning: pandas only support SQLAlchemy connectable(engine/connection) ordatabase string URI or sqlite3 DBAPI2 connectionother DBAPI2 objects are not tested, please consider using SQLAlchemy\n",
      "  warnings.warn(\n"
     ]
    }
   ],
   "source": [
    "returned_item = pd.read_sql(\"SELECT * FROM returned_item\", sales_conn)\n"
   ]
  },
  {
   "cell_type": "code",
   "execution_count": 14,
   "id": "d02df0fe",
   "metadata": {},
   "outputs": [],
   "source": [
    "feit = pd.merge(returned_item, order_details, on = 'ORDER_DETAIL_CODE', how = 'inner')\n"
   ]
  },
  {
   "cell_type": "code",
   "execution_count": 15,
   "id": "f40bbba0",
   "metadata": {},
   "outputs": [],
   "source": [
    "feiten = pd.merge(feit, orders, on = 'ORDER_NUMBER', how = 'inner')"
   ]
  },
  {
   "cell_type": "code",
   "execution_count": 16,
   "id": "4f63507a",
   "metadata": {
    "scrolled": false
   },
   "outputs": [],
   "source": [
    "returned_producten = feiten.drop(['RETURN_DATE', 'QUANTITY', 'RETAILER_NAME', 'RETAILER_SITE_CODE', 'RETAILER_CONTACT_CODE', 'SALES_STAFF_CODE', 'SALES_BRANCH_CODE', 'ORDER_METHOD_CODE'], axis = 1)"
   ]
  },
  {
   "cell_type": "code",
   "execution_count": 17,
   "id": "71cc4784",
   "metadata": {},
   "outputs": [
    {
     "data": {
      "text/html": [
       "<div>\n",
       "<style scoped>\n",
       "    .dataframe tbody tr th:only-of-type {\n",
       "        vertical-align: middle;\n",
       "    }\n",
       "\n",
       "    .dataframe tbody tr th {\n",
       "        vertical-align: top;\n",
       "    }\n",
       "\n",
       "    .dataframe thead th {\n",
       "        text-align: right;\n",
       "    }\n",
       "</style>\n",
       "<table border=\"1\" class=\"dataframe\">\n",
       "  <thead>\n",
       "    <tr style=\"text-align: right;\">\n",
       "      <th></th>\n",
       "      <th>PRODUCT_NUMBER</th>\n",
       "      <th>PRODUCT_TYPE_CODE</th>\n",
       "      <th>PRODUCT_NAME</th>\n",
       "      <th>PRODUCT_TYPE_EN</th>\n",
       "    </tr>\n",
       "  </thead>\n",
       "  <tbody>\n",
       "    <tr>\n",
       "      <th>0</th>\n",
       "      <td>53</td>\n",
       "      <td>8</td>\n",
       "      <td>Firefly Climbing Lamp</td>\n",
       "      <td>Climbing Accessories</td>\n",
       "    </tr>\n",
       "    <tr>\n",
       "      <th>1</th>\n",
       "      <td>54</td>\n",
       "      <td>8</td>\n",
       "      <td>Firefly Charger</td>\n",
       "      <td>Climbing Accessories</td>\n",
       "    </tr>\n",
       "    <tr>\n",
       "      <th>2</th>\n",
       "      <td>55</td>\n",
       "      <td>8</td>\n",
       "      <td>Firefly Rechargeable Battery</td>\n",
       "      <td>Climbing Accessories</td>\n",
       "    </tr>\n",
       "    <tr>\n",
       "      <th>3</th>\n",
       "      <td>56</td>\n",
       "      <td>8</td>\n",
       "      <td>Granite Chalk Bag</td>\n",
       "      <td>Climbing Accessories</td>\n",
       "    </tr>\n",
       "    <tr>\n",
       "      <th>4</th>\n",
       "      <td>50</td>\n",
       "      <td>8</td>\n",
       "      <td>Granite Carabiner</td>\n",
       "      <td>Climbing Accessories</td>\n",
       "    </tr>\n",
       "    <tr>\n",
       "      <th>...</th>\n",
       "      <td>...</td>\n",
       "      <td>...</td>\n",
       "      <td>...</td>\n",
       "      <td>...</td>\n",
       "    </tr>\n",
       "    <tr>\n",
       "      <th>104</th>\n",
       "      <td>107</td>\n",
       "      <td>19</td>\n",
       "      <td>Lady Hailstorm Titanium Woods Set</td>\n",
       "      <td>Woods</td>\n",
       "    </tr>\n",
       "    <tr>\n",
       "      <th>105</th>\n",
       "      <td>108</td>\n",
       "      <td>19</td>\n",
       "      <td>Lady Hailstorm Steel Woods Set</td>\n",
       "      <td>Woods</td>\n",
       "    </tr>\n",
       "    <tr>\n",
       "      <th>106</th>\n",
       "      <td>109</td>\n",
       "      <td>20</td>\n",
       "      <td>Course Pro Putter</td>\n",
       "      <td>Putters</td>\n",
       "    </tr>\n",
       "    <tr>\n",
       "      <th>107</th>\n",
       "      <td>110</td>\n",
       "      <td>20</td>\n",
       "      <td>10-12-2019</td>\n",
       "      <td>Putters</td>\n",
       "    </tr>\n",
       "    <tr>\n",
       "      <th>108</th>\n",
       "      <td>111</td>\n",
       "      <td>20</td>\n",
       "      <td>Blue Steel Max Putter</td>\n",
       "      <td>Putters</td>\n",
       "    </tr>\n",
       "  </tbody>\n",
       "</table>\n",
       "<p>109 rows × 4 columns</p>\n",
       "</div>"
      ],
      "text/plain": [
       "    PRODUCT_NUMBER PRODUCT_TYPE_CODE                       PRODUCT_NAME  \\\n",
       "0               53                 8              Firefly Climbing Lamp   \n",
       "1               54                 8                    Firefly Charger   \n",
       "2               55                 8       Firefly Rechargeable Battery   \n",
       "3               56                 8                  Granite Chalk Bag   \n",
       "4               50                 8                  Granite Carabiner   \n",
       "..             ...               ...                                ...   \n",
       "104            107                19  Lady Hailstorm Titanium Woods Set   \n",
       "105            108                19     Lady Hailstorm Steel Woods Set   \n",
       "106            109                20                  Course Pro Putter   \n",
       "107            110                20                         10-12-2019   \n",
       "108            111                20              Blue Steel Max Putter   \n",
       "\n",
       "          PRODUCT_TYPE_EN  \n",
       "0    Climbing Accessories  \n",
       "1    Climbing Accessories  \n",
       "2    Climbing Accessories  \n",
       "3    Climbing Accessories  \n",
       "4    Climbing Accessories  \n",
       "..                    ...  \n",
       "104                 Woods  \n",
       "105                 Woods  \n",
       "106               Putters  \n",
       "107               Putters  \n",
       "108               Putters  \n",
       "\n",
       "[109 rows x 4 columns]"
      ]
     },
     "execution_count": 17,
     "metadata": {},
     "output_type": "execute_result"
    }
   ],
   "source": [
    "product_ster"
   ]
  },
  {
   "cell_type": "code",
   "execution_count": 18,
   "id": "431ab03d",
   "metadata": {},
   "outputs": [
    {
     "data": {
      "text/plain": [
       "0"
      ]
     },
     "execution_count": 18,
     "metadata": {},
     "output_type": "execute_result"
    }
   ],
   "source": [
    "product_ster['PRODUCT_NUMBER'].isna().sum()"
   ]
  },
  {
   "cell_type": "code",
   "execution_count": 19,
   "id": "53db9590",
   "metadata": {},
   "outputs": [
    {
     "data": {
      "text/plain": [
       "0"
      ]
     },
     "execution_count": 19,
     "metadata": {},
     "output_type": "execute_result"
    }
   ],
   "source": [
    "product_ster['PRODUCT_TYPE_CODE'].isna().sum()"
   ]
  },
  {
   "cell_type": "code",
   "execution_count": 20,
   "id": "5203a48f",
   "metadata": {},
   "outputs": [
    {
     "data": {
      "text/plain": [
       "5"
      ]
     },
     "execution_count": 20,
     "metadata": {},
     "output_type": "execute_result"
    }
   ],
   "source": [
    "product_ster['PRODUCT_NAME'].isna().sum()"
   ]
  },
  {
   "cell_type": "code",
   "execution_count": 21,
   "id": "35f433a8",
   "metadata": {},
   "outputs": [
    {
     "data": {
      "text/plain": [
       "8"
      ]
     },
     "execution_count": 21,
     "metadata": {},
     "output_type": "execute_result"
    }
   ],
   "source": [
    "product_ster['PRODUCT_TYPE_EN'].isna().sum()"
   ]
  },
  {
   "cell_type": "code",
   "execution_count": 22,
   "id": "486c7310",
   "metadata": {},
   "outputs": [
    {
     "data": {
      "text/plain": [
       "0"
      ]
     },
     "execution_count": 22,
     "metadata": {},
     "output_type": "execute_result"
    }
   ],
   "source": [
    "product_ster['PRODUCT_NAME'] = product_ster['PRODUCT_NAME'].fillna('onbekend')\n",
    "product_ster['PRODUCT_NAME'].isna().sum()"
   ]
  },
  {
   "cell_type": "code",
   "execution_count": 23,
   "id": "95f74b6b",
   "metadata": {},
   "outputs": [
    {
     "data": {
      "text/html": [
       "<div>\n",
       "<style scoped>\n",
       "    .dataframe tbody tr th:only-of-type {\n",
       "        vertical-align: middle;\n",
       "    }\n",
       "\n",
       "    .dataframe tbody tr th {\n",
       "        vertical-align: top;\n",
       "    }\n",
       "\n",
       "    .dataframe thead th {\n",
       "        text-align: right;\n",
       "    }\n",
       "</style>\n",
       "<table border=\"1\" class=\"dataframe\">\n",
       "  <thead>\n",
       "    <tr style=\"text-align: right;\">\n",
       "      <th></th>\n",
       "      <th>PRODUCT_NUMBER</th>\n",
       "      <th>PRODUCT_TYPE_CODE</th>\n",
       "      <th>PRODUCT_NAME</th>\n",
       "      <th>PRODUCT_TYPE_EN</th>\n",
       "    </tr>\n",
       "  </thead>\n",
       "  <tbody>\n",
       "    <tr>\n",
       "      <th>81</th>\n",
       "      <td>42</td>\n",
       "      <td>6</td>\n",
       "      <td>Husky Rope 50</td>\n",
       "      <td>None</td>\n",
       "    </tr>\n",
       "    <tr>\n",
       "      <th>82</th>\n",
       "      <td>43</td>\n",
       "      <td>6</td>\n",
       "      <td>Husky Rope 60</td>\n",
       "      <td>None</td>\n",
       "    </tr>\n",
       "    <tr>\n",
       "      <th>83</th>\n",
       "      <td>44</td>\n",
       "      <td>6</td>\n",
       "      <td>Husky Rope 100</td>\n",
       "      <td>None</td>\n",
       "    </tr>\n",
       "    <tr>\n",
       "      <th>84</th>\n",
       "      <td>45</td>\n",
       "      <td>6</td>\n",
       "      <td>Husky Rope 200</td>\n",
       "      <td>None</td>\n",
       "    </tr>\n",
       "    <tr>\n",
       "      <th>85</th>\n",
       "      <td>46</td>\n",
       "      <td>7</td>\n",
       "      <td>Granite Climbing Helmet</td>\n",
       "      <td>None</td>\n",
       "    </tr>\n",
       "    <tr>\n",
       "      <th>86</th>\n",
       "      <td>47</td>\n",
       "      <td>7</td>\n",
       "      <td>Husky Harness</td>\n",
       "      <td>None</td>\n",
       "    </tr>\n",
       "    <tr>\n",
       "      <th>87</th>\n",
       "      <td>48</td>\n",
       "      <td>7</td>\n",
       "      <td>55</td>\n",
       "      <td>None</td>\n",
       "    </tr>\n",
       "    <tr>\n",
       "      <th>88</th>\n",
       "      <td>49</td>\n",
       "      <td>7</td>\n",
       "      <td>Granite Signal Mirror</td>\n",
       "      <td>None</td>\n",
       "    </tr>\n",
       "  </tbody>\n",
       "</table>\n",
       "</div>"
      ],
      "text/plain": [
       "   PRODUCT_NUMBER PRODUCT_TYPE_CODE             PRODUCT_NAME PRODUCT_TYPE_EN\n",
       "81             42                 6            Husky Rope 50            None\n",
       "82             43                 6            Husky Rope 60            None\n",
       "83             44                 6           Husky Rope 100            None\n",
       "84             45                 6           Husky Rope 200            None\n",
       "85             46                 7  Granite Climbing Helmet            None\n",
       "86             47                 7            Husky Harness            None\n",
       "87             48                 7                       55            None\n",
       "88             49                 7    Granite Signal Mirror            None"
      ]
     },
     "execution_count": 23,
     "metadata": {},
     "output_type": "execute_result"
    }
   ],
   "source": [
    "product_ster.loc[product_ster['PRODUCT_TYPE_EN'].isna(), :]"
   ]
  },
  {
   "cell_type": "code",
   "execution_count": 24,
   "id": "62a6647a",
   "metadata": {},
   "outputs": [
    {
     "data": {
      "text/html": [
       "<div>\n",
       "<style scoped>\n",
       "    .dataframe tbody tr th:only-of-type {\n",
       "        vertical-align: middle;\n",
       "    }\n",
       "\n",
       "    .dataframe tbody tr th {\n",
       "        vertical-align: top;\n",
       "    }\n",
       "\n",
       "    .dataframe thead th {\n",
       "        text-align: right;\n",
       "    }\n",
       "</style>\n",
       "<table border=\"1\" class=\"dataframe\">\n",
       "  <thead>\n",
       "    <tr style=\"text-align: right;\">\n",
       "      <th></th>\n",
       "      <th>PRODUCT_NUMBER</th>\n",
       "      <th>PRODUCT_TYPE_CODE</th>\n",
       "      <th>PRODUCT_NAME</th>\n",
       "      <th>PRODUCT_TYPE_EN</th>\n",
       "    </tr>\n",
       "  </thead>\n",
       "  <tbody>\n",
       "    <tr>\n",
       "      <th>81</th>\n",
       "      <td>42</td>\n",
       "      <td>6</td>\n",
       "      <td>Husky Rope 50</td>\n",
       "      <td>None</td>\n",
       "    </tr>\n",
       "    <tr>\n",
       "      <th>82</th>\n",
       "      <td>43</td>\n",
       "      <td>6</td>\n",
       "      <td>Husky Rope 60</td>\n",
       "      <td>None</td>\n",
       "    </tr>\n",
       "    <tr>\n",
       "      <th>83</th>\n",
       "      <td>44</td>\n",
       "      <td>6</td>\n",
       "      <td>Husky Rope 100</td>\n",
       "      <td>None</td>\n",
       "    </tr>\n",
       "    <tr>\n",
       "      <th>84</th>\n",
       "      <td>45</td>\n",
       "      <td>6</td>\n",
       "      <td>Husky Rope 200</td>\n",
       "      <td>None</td>\n",
       "    </tr>\n",
       "    <tr>\n",
       "      <th>86</th>\n",
       "      <td>47</td>\n",
       "      <td>7</td>\n",
       "      <td>Husky Harness</td>\n",
       "      <td>None</td>\n",
       "    </tr>\n",
       "  </tbody>\n",
       "</table>\n",
       "</div>"
      ],
      "text/plain": [
       "   PRODUCT_NUMBER PRODUCT_TYPE_CODE    PRODUCT_NAME PRODUCT_TYPE_EN\n",
       "81             42                 6   Husky Rope 50            None\n",
       "82             43                 6   Husky Rope 60            None\n",
       "83             44                 6  Husky Rope 100            None\n",
       "84             45                 6  Husky Rope 200            None\n",
       "86             47                 7   Husky Harness            None"
      ]
     },
     "execution_count": 24,
     "metadata": {},
     "output_type": "execute_result"
    }
   ],
   "source": [
    "subset_product_name_contains_husky = product_ster.loc[(~product_ster['PRODUCT_NAME'].isna()) & (product_ster['PRODUCT_NAME'].str.contains('Husky')), :]\n",
    "subset_product_name_contains_husky"
   ]
  },
  {
   "cell_type": "code",
   "execution_count": 25,
   "id": "16b7ea35",
   "metadata": {},
   "outputs": [
    {
     "data": {
      "text/html": [
       "<div>\n",
       "<style scoped>\n",
       "    .dataframe tbody tr th:only-of-type {\n",
       "        vertical-align: middle;\n",
       "    }\n",
       "\n",
       "    .dataframe tbody tr th {\n",
       "        vertical-align: top;\n",
       "    }\n",
       "\n",
       "    .dataframe thead th {\n",
       "        text-align: right;\n",
       "    }\n",
       "</style>\n",
       "<table border=\"1\" class=\"dataframe\">\n",
       "  <thead>\n",
       "    <tr style=\"text-align: right;\">\n",
       "      <th></th>\n",
       "      <th>PRODUCT_TYPE_CODE</th>\n",
       "      <th>PRODUCT_LINE_CODE</th>\n",
       "      <th>PRODUCT_TYPE_EN</th>\n",
       "    </tr>\n",
       "  </thead>\n",
       "  <tbody>\n",
       "    <tr>\n",
       "      <th>0</th>\n",
       "      <td>1</td>\n",
       "      <td>1</td>\n",
       "      <td>Cooking Gear</td>\n",
       "    </tr>\n",
       "    <tr>\n",
       "      <th>1</th>\n",
       "      <td>2</td>\n",
       "      <td>None</td>\n",
       "      <td>Tents</td>\n",
       "    </tr>\n",
       "    <tr>\n",
       "      <th>2</th>\n",
       "      <td>3</td>\n",
       "      <td>1</td>\n",
       "      <td>Sleeping Bags</td>\n",
       "    </tr>\n",
       "    <tr>\n",
       "      <th>3</th>\n",
       "      <td>4</td>\n",
       "      <td>1</td>\n",
       "      <td>Packs</td>\n",
       "    </tr>\n",
       "    <tr>\n",
       "      <th>4</th>\n",
       "      <td>5</td>\n",
       "      <td>1</td>\n",
       "      <td>Lanterns</td>\n",
       "    </tr>\n",
       "    <tr>\n",
       "      <th>5</th>\n",
       "      <td>6</td>\n",
       "      <td>2</td>\n",
       "      <td>None</td>\n",
       "    </tr>\n",
       "    <tr>\n",
       "      <th>6</th>\n",
       "      <td>7</td>\n",
       "      <td>2</td>\n",
       "      <td>None</td>\n",
       "    </tr>\n",
       "    <tr>\n",
       "      <th>7</th>\n",
       "      <td>8</td>\n",
       "      <td>2</td>\n",
       "      <td>Climbing Accessories</td>\n",
       "    </tr>\n",
       "    <tr>\n",
       "      <th>8</th>\n",
       "      <td>9</td>\n",
       "      <td>None</td>\n",
       "      <td>Tools</td>\n",
       "    </tr>\n",
       "    <tr>\n",
       "      <th>9</th>\n",
       "      <td>10</td>\n",
       "      <td>3</td>\n",
       "      <td>Watches</td>\n",
       "    </tr>\n",
       "    <tr>\n",
       "      <th>10</th>\n",
       "      <td>11</td>\n",
       "      <td>None</td>\n",
       "      <td>Eyewear</td>\n",
       "    </tr>\n",
       "    <tr>\n",
       "      <th>11</th>\n",
       "      <td>12</td>\n",
       "      <td>3</td>\n",
       "      <td>Knives</td>\n",
       "    </tr>\n",
       "    <tr>\n",
       "      <th>12</th>\n",
       "      <td>13</td>\n",
       "      <td>3</td>\n",
       "      <td>Binoculars</td>\n",
       "    </tr>\n",
       "    <tr>\n",
       "      <th>13</th>\n",
       "      <td>14</td>\n",
       "      <td>3</td>\n",
       "      <td>Navigation</td>\n",
       "    </tr>\n",
       "    <tr>\n",
       "      <th>14</th>\n",
       "      <td>15</td>\n",
       "      <td>4</td>\n",
       "      <td>Insect Repellents</td>\n",
       "    </tr>\n",
       "    <tr>\n",
       "      <th>15</th>\n",
       "      <td>16</td>\n",
       "      <td>4</td>\n",
       "      <td>Sunscreen</td>\n",
       "    </tr>\n",
       "    <tr>\n",
       "      <th>16</th>\n",
       "      <td>17</td>\n",
       "      <td>4</td>\n",
       "      <td>First Aid</td>\n",
       "    </tr>\n",
       "    <tr>\n",
       "      <th>17</th>\n",
       "      <td>18</td>\n",
       "      <td>5</td>\n",
       "      <td>Irons</td>\n",
       "    </tr>\n",
       "    <tr>\n",
       "      <th>18</th>\n",
       "      <td>19</td>\n",
       "      <td>None</td>\n",
       "      <td>Woods</td>\n",
       "    </tr>\n",
       "    <tr>\n",
       "      <th>19</th>\n",
       "      <td>20</td>\n",
       "      <td>5</td>\n",
       "      <td>Putters</td>\n",
       "    </tr>\n",
       "    <tr>\n",
       "      <th>20</th>\n",
       "      <td>21</td>\n",
       "      <td>5</td>\n",
       "      <td>Golf Accessories</td>\n",
       "    </tr>\n",
       "  </tbody>\n",
       "</table>\n",
       "</div>"
      ],
      "text/plain": [
       "   PRODUCT_TYPE_CODE PRODUCT_LINE_CODE       PRODUCT_TYPE_EN\n",
       "0                  1                 1          Cooking Gear\n",
       "1                  2              None                 Tents\n",
       "2                  3                 1         Sleeping Bags\n",
       "3                  4                 1                 Packs\n",
       "4                  5                 1              Lanterns\n",
       "5                  6                 2                  None\n",
       "6                  7                 2                  None\n",
       "7                  8                 2  Climbing Accessories\n",
       "8                  9              None                 Tools\n",
       "9                 10                 3               Watches\n",
       "10                11              None               Eyewear\n",
       "11                12                 3                Knives\n",
       "12                13                 3            Binoculars\n",
       "13                14                 3            Navigation\n",
       "14                15                 4     Insect Repellents\n",
       "15                16                 4             Sunscreen\n",
       "16                17                 4             First Aid\n",
       "17                18                 5                 Irons\n",
       "18                19              None                 Woods\n",
       "19                20                 5               Putters\n",
       "20                21                 5      Golf Accessories"
      ]
     },
     "execution_count": 25,
     "metadata": {},
     "output_type": "execute_result"
    }
   ],
   "source": [
    "types"
   ]
  },
  {
   "cell_type": "code",
   "execution_count": 26,
   "id": "c55bda49",
   "metadata": {},
   "outputs": [
    {
     "data": {
      "text/plain": [
       "0"
      ]
     },
     "execution_count": 26,
     "metadata": {},
     "output_type": "execute_result"
    }
   ],
   "source": [
    "product_ster['PRODUCT_TYPE_EN'] = product_ster['PRODUCT_TYPE_EN'].fillna('onbekend')\n",
    "product_ster['PRODUCT_TYPE_EN'].isna().sum()"
   ]
  },
  {
   "cell_type": "code",
   "execution_count": 27,
   "id": "2638c1b7",
   "metadata": {},
   "outputs": [
    {
     "data": {
      "text/html": [
       "<div>\n",
       "<style scoped>\n",
       "    .dataframe tbody tr th:only-of-type {\n",
       "        vertical-align: middle;\n",
       "    }\n",
       "\n",
       "    .dataframe tbody tr th {\n",
       "        vertical-align: top;\n",
       "    }\n",
       "\n",
       "    .dataframe thead th {\n",
       "        text-align: right;\n",
       "    }\n",
       "</style>\n",
       "<table border=\"1\" class=\"dataframe\">\n",
       "  <thead>\n",
       "    <tr style=\"text-align: right;\">\n",
       "      <th></th>\n",
       "      <th>RETURN_REASON_CODE</th>\n",
       "      <th>RETURN_DESCRIPTION_EN</th>\n",
       "    </tr>\n",
       "  </thead>\n",
       "  <tbody>\n",
       "    <tr>\n",
       "      <th>0</th>\n",
       "      <td>1</td>\n",
       "      <td>Defective product</td>\n",
       "    </tr>\n",
       "    <tr>\n",
       "      <th>1</th>\n",
       "      <td>2</td>\n",
       "      <td>Incomplete product</td>\n",
       "    </tr>\n",
       "    <tr>\n",
       "      <th>2</th>\n",
       "      <td>3</td>\n",
       "      <td>Wrong product ordered</td>\n",
       "    </tr>\n",
       "    <tr>\n",
       "      <th>3</th>\n",
       "      <td>4</td>\n",
       "      <td>Wrong product shipped</td>\n",
       "    </tr>\n",
       "    <tr>\n",
       "      <th>4</th>\n",
       "      <td>5</td>\n",
       "      <td>Unsatisfactory product</td>\n",
       "    </tr>\n",
       "  </tbody>\n",
       "</table>\n",
       "</div>"
      ],
      "text/plain": [
       "  RETURN_REASON_CODE   RETURN_DESCRIPTION_EN\n",
       "0                  1       Defective product\n",
       "1                  2      Incomplete product\n",
       "2                  3   Wrong product ordered\n",
       "3                  4   Wrong product shipped\n",
       "4                  5  Unsatisfactory product"
      ]
     },
     "execution_count": 27,
     "metadata": {},
     "output_type": "execute_result"
    }
   ],
   "source": [
    "reden"
   ]
  },
  {
   "cell_type": "code",
   "execution_count": 28,
   "id": "b4c7a9f4",
   "metadata": {},
   "outputs": [
    {
     "data": {
      "text/html": [
       "<div>\n",
       "<style scoped>\n",
       "    .dataframe tbody tr th:only-of-type {\n",
       "        vertical-align: middle;\n",
       "    }\n",
       "\n",
       "    .dataframe tbody tr th {\n",
       "        vertical-align: top;\n",
       "    }\n",
       "\n",
       "    .dataframe thead th {\n",
       "        text-align: right;\n",
       "    }\n",
       "</style>\n",
       "<table border=\"1\" class=\"dataframe\">\n",
       "  <thead>\n",
       "    <tr style=\"text-align: right;\">\n",
       "      <th></th>\n",
       "      <th>ORDER_DATE</th>\n",
       "      <th>YEAR</th>\n",
       "      <th>MONTH</th>\n",
       "      <th>DAY</th>\n",
       "    </tr>\n",
       "  </thead>\n",
       "  <tbody>\n",
       "    <tr>\n",
       "      <th>0</th>\n",
       "      <td>2022-11-11</td>\n",
       "      <td>2022.0</td>\n",
       "      <td>11.0</td>\n",
       "      <td>11.0</td>\n",
       "    </tr>\n",
       "    <tr>\n",
       "      <th>1</th>\n",
       "      <td>2022-11-19</td>\n",
       "      <td>2022.0</td>\n",
       "      <td>11.0</td>\n",
       "      <td>19.0</td>\n",
       "    </tr>\n",
       "    <tr>\n",
       "      <th>2</th>\n",
       "      <td>2022-11-11</td>\n",
       "      <td>2022.0</td>\n",
       "      <td>11.0</td>\n",
       "      <td>11.0</td>\n",
       "    </tr>\n",
       "    <tr>\n",
       "      <th>3</th>\n",
       "      <td>2022-11-15</td>\n",
       "      <td>2022.0</td>\n",
       "      <td>11.0</td>\n",
       "      <td>15.0</td>\n",
       "    </tr>\n",
       "    <tr>\n",
       "      <th>4</th>\n",
       "      <td>2022-12-14</td>\n",
       "      <td>2022.0</td>\n",
       "      <td>12.0</td>\n",
       "      <td>14.0</td>\n",
       "    </tr>\n",
       "    <tr>\n",
       "      <th>...</th>\n",
       "      <td>...</td>\n",
       "      <td>...</td>\n",
       "      <td>...</td>\n",
       "      <td>...</td>\n",
       "    </tr>\n",
       "    <tr>\n",
       "      <th>5355</th>\n",
       "      <td>2021-10-17</td>\n",
       "      <td>2021.0</td>\n",
       "      <td>10.0</td>\n",
       "      <td>17.0</td>\n",
       "    </tr>\n",
       "    <tr>\n",
       "      <th>5356</th>\n",
       "      <td>2022-02-16</td>\n",
       "      <td>2022.0</td>\n",
       "      <td>2.0</td>\n",
       "      <td>16.0</td>\n",
       "    </tr>\n",
       "    <tr>\n",
       "      <th>5357</th>\n",
       "      <td>2022-10-12</td>\n",
       "      <td>2022.0</td>\n",
       "      <td>10.0</td>\n",
       "      <td>12.0</td>\n",
       "    </tr>\n",
       "    <tr>\n",
       "      <th>5358</th>\n",
       "      <td>2022-01-20</td>\n",
       "      <td>2022.0</td>\n",
       "      <td>1.0</td>\n",
       "      <td>20.0</td>\n",
       "    </tr>\n",
       "    <tr>\n",
       "      <th>5359</th>\n",
       "      <td>2022-10-07</td>\n",
       "      <td>2022.0</td>\n",
       "      <td>10.0</td>\n",
       "      <td>7.0</td>\n",
       "    </tr>\n",
       "  </tbody>\n",
       "</table>\n",
       "<p>5360 rows × 4 columns</p>\n",
       "</div>"
      ],
      "text/plain": [
       "     ORDER_DATE    YEAR  MONTH   DAY\n",
       "0    2022-11-11  2022.0   11.0  11.0\n",
       "1    2022-11-19  2022.0   11.0  19.0\n",
       "2    2022-11-11  2022.0   11.0  11.0\n",
       "3    2022-11-15  2022.0   11.0  15.0\n",
       "4    2022-12-14  2022.0   12.0  14.0\n",
       "...         ...     ...    ...   ...\n",
       "5355 2021-10-17  2021.0   10.0  17.0\n",
       "5356 2022-02-16  2022.0    2.0  16.0\n",
       "5357 2022-10-12  2022.0   10.0  12.0\n",
       "5358 2022-01-20  2022.0    1.0  20.0\n",
       "5359 2022-10-07  2022.0   10.0   7.0\n",
       "\n",
       "[5360 rows x 4 columns]"
      ]
     },
     "execution_count": 28,
     "metadata": {},
     "output_type": "execute_result"
    }
   ],
   "source": [
    "datum"
   ]
  },
  {
   "cell_type": "code",
   "execution_count": 29,
   "id": "72584d56",
   "metadata": {},
   "outputs": [
    {
     "data": {
      "text/plain": [
       "186"
      ]
     },
     "execution_count": 29,
     "metadata": {},
     "output_type": "execute_result"
    }
   ],
   "source": [
    "datum['ORDER_DATE'].isna().sum()"
   ]
  },
  {
   "cell_type": "code",
   "execution_count": 30,
   "id": "fc2f913b",
   "metadata": {},
   "outputs": [
    {
     "data": {
      "text/plain": [
       "0"
      ]
     },
     "execution_count": 30,
     "metadata": {},
     "output_type": "execute_result"
    }
   ],
   "source": [
    "datum['ORDER_DATE'] = datum['ORDER_DATE'].fillna('onbekend')\n",
    "datum['ORDER_DATE'].isna().sum()"
   ]
  },
  {
   "cell_type": "code",
   "execution_count": 31,
   "id": "500aaee9",
   "metadata": {},
   "outputs": [
    {
     "data": {
      "text/html": [
       "<div>\n",
       "<style scoped>\n",
       "    .dataframe tbody tr th:only-of-type {\n",
       "        vertical-align: middle;\n",
       "    }\n",
       "\n",
       "    .dataframe tbody tr th {\n",
       "        vertical-align: top;\n",
       "    }\n",
       "\n",
       "    .dataframe thead th {\n",
       "        text-align: right;\n",
       "    }\n",
       "</style>\n",
       "<table border=\"1\" class=\"dataframe\">\n",
       "  <thead>\n",
       "    <tr style=\"text-align: right;\">\n",
       "      <th></th>\n",
       "      <th>ORDER_NUMBER</th>\n",
       "      <th>RETAILER_NAME</th>\n",
       "      <th>RETAILER_SITE_CODE</th>\n",
       "    </tr>\n",
       "  </thead>\n",
       "  <tbody>\n",
       "    <tr>\n",
       "      <th>0</th>\n",
       "      <td>1831</td>\n",
       "      <td>Sport &amp; Freizeit</td>\n",
       "      <td>36</td>\n",
       "    </tr>\n",
       "    <tr>\n",
       "      <th>1</th>\n",
       "      <td>1832</td>\n",
       "      <td>Sport &amp; Freizeit</td>\n",
       "      <td>38</td>\n",
       "    </tr>\n",
       "    <tr>\n",
       "      <th>2</th>\n",
       "      <td>1833</td>\n",
       "      <td>Sport &amp; Freizeit</td>\n",
       "      <td>40</td>\n",
       "    </tr>\n",
       "    <tr>\n",
       "      <th>3</th>\n",
       "      <td>1834</td>\n",
       "      <td>Die Zeltstadt</td>\n",
       "      <td>47</td>\n",
       "    </tr>\n",
       "    <tr>\n",
       "      <th>4</th>\n",
       "      <td>1835</td>\n",
       "      <td>Die Zeltstadt</td>\n",
       "      <td>48</td>\n",
       "    </tr>\n",
       "    <tr>\n",
       "      <th>...</th>\n",
       "      <td>...</td>\n",
       "      <td>...</td>\n",
       "      <td>...</td>\n",
       "    </tr>\n",
       "    <tr>\n",
       "      <th>5355</th>\n",
       "      <td>9238</td>\n",
       "      <td>Fu Chin Sport Equipment Co.</td>\n",
       "      <td>362</td>\n",
       "    </tr>\n",
       "    <tr>\n",
       "      <th>5356</th>\n",
       "      <td>9239</td>\n",
       "      <td>Chen Yu Enterprise Co.,</td>\n",
       "      <td>365</td>\n",
       "    </tr>\n",
       "    <tr>\n",
       "      <th>5357</th>\n",
       "      <td>9240</td>\n",
       "      <td>Chen Yu Enterprise Co.,</td>\n",
       "      <td>365</td>\n",
       "    </tr>\n",
       "    <tr>\n",
       "      <th>5358</th>\n",
       "      <td>9241</td>\n",
       "      <td>Chen Yu Enterprise Co.,</td>\n",
       "      <td>363</td>\n",
       "    </tr>\n",
       "    <tr>\n",
       "      <th>5359</th>\n",
       "      <td>9242</td>\n",
       "      <td>Chen Yu Enterprise Co.,</td>\n",
       "      <td>363</td>\n",
       "    </tr>\n",
       "  </tbody>\n",
       "</table>\n",
       "<p>5360 rows × 3 columns</p>\n",
       "</div>"
      ],
      "text/plain": [
       "     ORDER_NUMBER                RETAILER_NAME RETAILER_SITE_CODE\n",
       "0            1831             Sport & Freizeit                 36\n",
       "1            1832             Sport & Freizeit                 38\n",
       "2            1833             Sport & Freizeit                 40\n",
       "3            1834                Die Zeltstadt                 47\n",
       "4            1835                Die Zeltstadt                 48\n",
       "...           ...                          ...                ...\n",
       "5355         9238  Fu Chin Sport Equipment Co.                362\n",
       "5356         9239      Chen Yu Enterprise Co.,                365\n",
       "5357         9240      Chen Yu Enterprise Co.,                365\n",
       "5358         9241      Chen Yu Enterprise Co.,                363\n",
       "5359         9242      Chen Yu Enterprise Co.,                363\n",
       "\n",
       "[5360 rows x 3 columns]"
      ]
     },
     "execution_count": 31,
     "metadata": {},
     "output_type": "execute_result"
    }
   ],
   "source": [
    "verkoper"
   ]
  },
  {
   "cell_type": "code",
   "execution_count": 32,
   "id": "b4486089",
   "metadata": {},
   "outputs": [
    {
     "data": {
      "text/plain": [
       "0"
      ]
     },
     "execution_count": 32,
     "metadata": {},
     "output_type": "execute_result"
    }
   ],
   "source": [
    "verkoper['ORDER_NUMBER'].isna().sum()"
   ]
  },
  {
   "cell_type": "code",
   "execution_count": 33,
   "id": "150cd313",
   "metadata": {},
   "outputs": [
    {
     "data": {
      "text/plain": [
       "167"
      ]
     },
     "execution_count": 33,
     "metadata": {},
     "output_type": "execute_result"
    }
   ],
   "source": [
    "verkoper['RETAILER_NAME'].isna().sum()"
   ]
  },
  {
   "cell_type": "code",
   "execution_count": 34,
   "id": "505f59cb",
   "metadata": {},
   "outputs": [
    {
     "data": {
      "text/plain": [
       "198"
      ]
     },
     "execution_count": 34,
     "metadata": {},
     "output_type": "execute_result"
    }
   ],
   "source": [
    "verkoper['RETAILER_SITE_CODE'].isna().sum()"
   ]
  },
  {
   "cell_type": "code",
   "execution_count": 35,
   "id": "6072a11c",
   "metadata": {},
   "outputs": [
    {
     "data": {
      "text/plain": [
       "'Falcon Outfitters'"
      ]
     },
     "execution_count": 35,
     "metadata": {},
     "output_type": "execute_result"
    }
   ],
   "source": [
    "modus_retailer = verkoper['RETAILER_NAME'].mode()[0]\n",
    "modus_retailer"
   ]
  },
  {
   "cell_type": "code",
   "execution_count": 36,
   "id": "db47d0e2",
   "metadata": {},
   "outputs": [
    {
     "data": {
      "text/plain": [
       "0"
      ]
     },
     "execution_count": 36,
     "metadata": {},
     "output_type": "execute_result"
    }
   ],
   "source": [
    "verkoper['RETAILER_NAME'] = verkoper['RETAILER_NAME'].fillna(modus_retailer)\n",
    "verkoper['RETAILER_NAME'].isna().sum()"
   ]
  },
  {
   "cell_type": "code",
   "execution_count": 37,
   "id": "991cc66d",
   "metadata": {},
   "outputs": [
    {
     "data": {
      "text/html": [
       "<div>\n",
       "<style scoped>\n",
       "    .dataframe tbody tr th:only-of-type {\n",
       "        vertical-align: middle;\n",
       "    }\n",
       "\n",
       "    .dataframe tbody tr th {\n",
       "        vertical-align: top;\n",
       "    }\n",
       "\n",
       "    .dataframe thead th {\n",
       "        text-align: right;\n",
       "    }\n",
       "</style>\n",
       "<table border=\"1\" class=\"dataframe\">\n",
       "  <thead>\n",
       "    <tr style=\"text-align: right;\">\n",
       "      <th></th>\n",
       "      <th>ORDER_NUMBER</th>\n",
       "      <th>RETAILER_NAME</th>\n",
       "      <th>RETAILER_SITE_CODE</th>\n",
       "    </tr>\n",
       "  </thead>\n",
       "  <tbody>\n",
       "    <tr>\n",
       "      <th>13</th>\n",
       "      <td>1848</td>\n",
       "      <td>Sport &amp; Freizeit</td>\n",
       "      <td>None</td>\n",
       "    </tr>\n",
       "    <tr>\n",
       "      <th>64</th>\n",
       "      <td>1902</td>\n",
       "      <td>Extrem!</td>\n",
       "      <td>None</td>\n",
       "    </tr>\n",
       "    <tr>\n",
       "      <th>67</th>\n",
       "      <td>1905</td>\n",
       "      <td>Der Fitness-Doktor</td>\n",
       "      <td>None</td>\n",
       "    </tr>\n",
       "    <tr>\n",
       "      <th>159</th>\n",
       "      <td>2006</td>\n",
       "      <td>Sport &amp; Freizeit</td>\n",
       "      <td>None</td>\n",
       "    </tr>\n",
       "    <tr>\n",
       "      <th>196</th>\n",
       "      <td>2044</td>\n",
       "      <td>Die Fitness-Experten</td>\n",
       "      <td>None</td>\n",
       "    </tr>\n",
       "    <tr>\n",
       "      <th>...</th>\n",
       "      <td>...</td>\n",
       "      <td>...</td>\n",
       "      <td>...</td>\n",
       "    </tr>\n",
       "    <tr>\n",
       "      <th>5211</th>\n",
       "      <td>9077</td>\n",
       "      <td>Jensen Mountaineering</td>\n",
       "      <td>None</td>\n",
       "    </tr>\n",
       "    <tr>\n",
       "      <th>5257</th>\n",
       "      <td>9132</td>\n",
       "      <td>Grand choix</td>\n",
       "      <td>None</td>\n",
       "    </tr>\n",
       "    <tr>\n",
       "      <th>5276</th>\n",
       "      <td>9151</td>\n",
       "      <td>Jensen Mountaineering</td>\n",
       "      <td>None</td>\n",
       "    </tr>\n",
       "    <tr>\n",
       "      <th>5336</th>\n",
       "      <td>9219</td>\n",
       "      <td>Chen Yu Enterprise Co.,</td>\n",
       "      <td>None</td>\n",
       "    </tr>\n",
       "    <tr>\n",
       "      <th>5348</th>\n",
       "      <td>9231</td>\n",
       "      <td>Chen Yu Enterprise Co.,</td>\n",
       "      <td>None</td>\n",
       "    </tr>\n",
       "  </tbody>\n",
       "</table>\n",
       "<p>198 rows × 3 columns</p>\n",
       "</div>"
      ],
      "text/plain": [
       "     ORDER_NUMBER            RETAILER_NAME RETAILER_SITE_CODE\n",
       "13           1848         Sport & Freizeit               None\n",
       "64           1902                  Extrem!               None\n",
       "67           1905       Der Fitness-Doktor               None\n",
       "159          2006         Sport & Freizeit               None\n",
       "196          2044     Die Fitness-Experten               None\n",
       "...           ...                      ...                ...\n",
       "5211         9077    Jensen Mountaineering               None\n",
       "5257         9132              Grand choix               None\n",
       "5276         9151    Jensen Mountaineering               None\n",
       "5336         9219  Chen Yu Enterprise Co.,               None\n",
       "5348         9231  Chen Yu Enterprise Co.,               None\n",
       "\n",
       "[198 rows x 3 columns]"
      ]
     },
     "execution_count": 37,
     "metadata": {},
     "output_type": "execute_result"
    }
   ],
   "source": [
    "verkoper.loc[verkoper['RETAILER_SITE_CODE'].isna(), :]"
   ]
  },
  {
   "cell_type": "code",
   "execution_count": 38,
   "id": "4e908f2b",
   "metadata": {},
   "outputs": [
    {
     "data": {
      "text/html": [
       "<div>\n",
       "<style scoped>\n",
       "    .dataframe tbody tr th:only-of-type {\n",
       "        vertical-align: middle;\n",
       "    }\n",
       "\n",
       "    .dataframe tbody tr th {\n",
       "        vertical-align: top;\n",
       "    }\n",
       "\n",
       "    .dataframe thead th {\n",
       "        text-align: right;\n",
       "    }\n",
       "</style>\n",
       "<table border=\"1\" class=\"dataframe\">\n",
       "  <thead>\n",
       "    <tr style=\"text-align: right;\">\n",
       "      <th></th>\n",
       "      <th>ORDER_NUMBER</th>\n",
       "      <th>RETAILER_NAME</th>\n",
       "      <th>RETAILER_SITE_CODE</th>\n",
       "    </tr>\n",
       "  </thead>\n",
       "  <tbody>\n",
       "    <tr>\n",
       "      <th>0</th>\n",
       "      <td>1831</td>\n",
       "      <td>Sport &amp; Freizeit</td>\n",
       "      <td>36</td>\n",
       "    </tr>\n",
       "    <tr>\n",
       "      <th>1</th>\n",
       "      <td>1832</td>\n",
       "      <td>Sport &amp; Freizeit</td>\n",
       "      <td>38</td>\n",
       "    </tr>\n",
       "    <tr>\n",
       "      <th>2</th>\n",
       "      <td>1833</td>\n",
       "      <td>Sport &amp; Freizeit</td>\n",
       "      <td>40</td>\n",
       "    </tr>\n",
       "    <tr>\n",
       "      <th>12</th>\n",
       "      <td>1847</td>\n",
       "      <td>Sport &amp; Freizeit</td>\n",
       "      <td>36</td>\n",
       "    </tr>\n",
       "    <tr>\n",
       "      <th>13</th>\n",
       "      <td>1848</td>\n",
       "      <td>Sport &amp; Freizeit</td>\n",
       "      <td>None</td>\n",
       "    </tr>\n",
       "    <tr>\n",
       "      <th>...</th>\n",
       "      <td>...</td>\n",
       "      <td>...</td>\n",
       "      <td>...</td>\n",
       "    </tr>\n",
       "    <tr>\n",
       "      <th>5296</th>\n",
       "      <td>9171</td>\n",
       "      <td>Beck's Sports Store</td>\n",
       "      <td>405</td>\n",
       "    </tr>\n",
       "    <tr>\n",
       "      <th>5344</th>\n",
       "      <td>9227</td>\n",
       "      <td>Fu Chin Sport Equipment Co.</td>\n",
       "      <td>362</td>\n",
       "    </tr>\n",
       "    <tr>\n",
       "      <th>5345</th>\n",
       "      <td>9228</td>\n",
       "      <td>Fu Chin Sport Equipment Co.</td>\n",
       "      <td>362</td>\n",
       "    </tr>\n",
       "    <tr>\n",
       "      <th>5354</th>\n",
       "      <td>9237</td>\n",
       "      <td>Fu Chin Sport Equipment Co.</td>\n",
       "      <td>362</td>\n",
       "    </tr>\n",
       "    <tr>\n",
       "      <th>5355</th>\n",
       "      <td>9238</td>\n",
       "      <td>Fu Chin Sport Equipment Co.</td>\n",
       "      <td>362</td>\n",
       "    </tr>\n",
       "  </tbody>\n",
       "</table>\n",
       "<p>1069 rows × 3 columns</p>\n",
       "</div>"
      ],
      "text/plain": [
       "     ORDER_NUMBER                RETAILER_NAME RETAILER_SITE_CODE\n",
       "0            1831             Sport & Freizeit                 36\n",
       "1            1832             Sport & Freizeit                 38\n",
       "2            1833             Sport & Freizeit                 40\n",
       "12           1847             Sport & Freizeit                 36\n",
       "13           1848             Sport & Freizeit               None\n",
       "...           ...                          ...                ...\n",
       "5296         9171          Beck's Sports Store                405\n",
       "5344         9227  Fu Chin Sport Equipment Co.                362\n",
       "5345         9228  Fu Chin Sport Equipment Co.                362\n",
       "5354         9237  Fu Chin Sport Equipment Co.                362\n",
       "5355         9238  Fu Chin Sport Equipment Co.                362\n",
       "\n",
       "[1069 rows x 3 columns]"
      ]
     },
     "execution_count": 38,
     "metadata": {},
     "output_type": "execute_result"
    }
   ],
   "source": [
    "subset = verkoper.loc[(~verkoper['RETAILER_NAME'].isna()) & (verkoper['RETAILER_NAME'].str.contains('Sport')), :]\n",
    "subset"
   ]
  },
  {
   "cell_type": "code",
   "execution_count": 39,
   "id": "6e5ae1df",
   "metadata": {},
   "outputs": [
    {
     "data": {
      "text/plain": [
       "0"
      ]
     },
     "execution_count": 39,
     "metadata": {},
     "output_type": "execute_result"
    }
   ],
   "source": [
    "verkoper['RETAILER_SITE_CODE'] = verkoper['RETAILER_SITE_CODE'].fillna('onbekend')\n",
    "verkoper['RETAILER_SITE_CODE'].isna().sum()"
   ]
  },
  {
   "cell_type": "code",
   "execution_count": 40,
   "id": "51f8d36a",
   "metadata": {},
   "outputs": [
    {
     "data": {
      "text/html": [
       "<div>\n",
       "<style scoped>\n",
       "    .dataframe tbody tr th:only-of-type {\n",
       "        vertical-align: middle;\n",
       "    }\n",
       "\n",
       "    .dataframe tbody tr th {\n",
       "        vertical-align: top;\n",
       "    }\n",
       "\n",
       "    .dataframe thead th {\n",
       "        text-align: right;\n",
       "    }\n",
       "</style>\n",
       "<table border=\"1\" class=\"dataframe\">\n",
       "  <thead>\n",
       "    <tr style=\"text-align: right;\">\n",
       "      <th></th>\n",
       "      <th>RETURN_CODE</th>\n",
       "      <th>ORDER_DETAIL_CODE</th>\n",
       "      <th>RETURN_REASON_CODE</th>\n",
       "      <th>RETURN_QUANTITY</th>\n",
       "      <th>ORDER_NUMBER</th>\n",
       "      <th>PRODUCT_NUMBER</th>\n",
       "      <th>UNIT_COST</th>\n",
       "      <th>UNIT_PRICE</th>\n",
       "      <th>UNIT_SALE_PRICE</th>\n",
       "      <th>ORDER_DATE</th>\n",
       "    </tr>\n",
       "  </thead>\n",
       "  <tbody>\n",
       "    <tr>\n",
       "      <th>0</th>\n",
       "      <td>1491</td>\n",
       "      <td>84858</td>\n",
       "      <td>None</td>\n",
       "      <td>8</td>\n",
       "      <td>7446</td>\n",
       "      <td>6</td>\n",
       "      <td>87.63</td>\n",
       "      <td>123.56</td>\n",
       "      <td>123.56</td>\n",
       "      <td>2021-07-23</td>\n",
       "    </tr>\n",
       "    <tr>\n",
       "      <th>1</th>\n",
       "      <td>1492</td>\n",
       "      <td>84440</td>\n",
       "      <td>2</td>\n",
       "      <td>2</td>\n",
       "      <td>7316</td>\n",
       "      <td>8</td>\n",
       "      <td>151.77</td>\n",
       "      <td>151.77</td>\n",
       "      <td>88.23</td>\n",
       "      <td>2020-10-18</td>\n",
       "    </tr>\n",
       "    <tr>\n",
       "      <th>2</th>\n",
       "      <td>1493</td>\n",
       "      <td>84867</td>\n",
       "      <td>4</td>\n",
       "      <td>24-6-2021 09:23:14</td>\n",
       "      <td>7359</td>\n",
       "      <td>8</td>\n",
       "      <td>78.26</td>\n",
       "      <td>134.63</td>\n",
       "      <td>134.63</td>\n",
       "      <td>2021-06-12</td>\n",
       "    </tr>\n",
       "    <tr>\n",
       "      <th>3</th>\n",
       "      <td>21-7-2021 00:00:09</td>\n",
       "      <td>84873</td>\n",
       "      <td>3</td>\n",
       "      <td>20</td>\n",
       "      <td>7448</td>\n",
       "      <td>8</td>\n",
       "      <td>None</td>\n",
       "      <td>134.63</td>\n",
       "      <td>126.16</td>\n",
       "      <td>2021-07-16</td>\n",
       "    </tr>\n",
       "    <tr>\n",
       "      <th>4</th>\n",
       "      <td>1496</td>\n",
       "      <td>84488</td>\n",
       "      <td>None</td>\n",
       "      <td>2</td>\n",
       "      <td>7438</td>\n",
       "      <td>17</td>\n",
       "      <td>64.36</td>\n",
       "      <td>90.09</td>\n",
       "      <td>90.09</td>\n",
       "      <td>2020-08-23</td>\n",
       "    </tr>\n",
       "    <tr>\n",
       "      <th>...</th>\n",
       "      <td>...</td>\n",
       "      <td>...</td>\n",
       "      <td>...</td>\n",
       "      <td>...</td>\n",
       "      <td>...</td>\n",
       "      <td>...</td>\n",
       "      <td>...</td>\n",
       "      <td>...</td>\n",
       "      <td>...</td>\n",
       "      <td>...</td>\n",
       "    </tr>\n",
       "    <tr>\n",
       "      <th>637</th>\n",
       "      <td>2459</td>\n",
       "      <td>114921</td>\n",
       "      <td>1</td>\n",
       "      <td>None</td>\n",
       "      <td>7625</td>\n",
       "      <td>33</td>\n",
       "      <td>18.2</td>\n",
       "      <td>27.3</td>\n",
       "      <td>None</td>\n",
       "      <td>2021-05-17</td>\n",
       "    </tr>\n",
       "    <tr>\n",
       "      <th>638</th>\n",
       "      <td>2465</td>\n",
       "      <td>114972</td>\n",
       "      <td>3</td>\n",
       "      <td>6-6-2021 09:22:12</td>\n",
       "      <td>7625</td>\n",
       "      <td>66</td>\n",
       "      <td>69.68</td>\n",
       "      <td>92.91</td>\n",
       "      <td>46.45</td>\n",
       "      <td>2021-05-17</td>\n",
       "    </tr>\n",
       "    <tr>\n",
       "      <th>639</th>\n",
       "      <td>2464</td>\n",
       "      <td>114967</td>\n",
       "      <td>1</td>\n",
       "      <td>12</td>\n",
       "      <td>7623</td>\n",
       "      <td>63</td>\n",
       "      <td>30.63</td>\n",
       "      <td>45.97</td>\n",
       "      <td>38.31</td>\n",
       "      <td>2021-10-14</td>\n",
       "    </tr>\n",
       "    <tr>\n",
       "      <th>640</th>\n",
       "      <td>2466</td>\n",
       "      <td>114983</td>\n",
       "      <td>5</td>\n",
       "      <td>66</td>\n",
       "      <td>7622</td>\n",
       "      <td>71</td>\n",
       "      <td>60.5</td>\n",
       "      <td>90.76</td>\n",
       "      <td>75.63</td>\n",
       "      <td>2021-09-26</td>\n",
       "    </tr>\n",
       "    <tr>\n",
       "      <th>641</th>\n",
       "      <td>2467</td>\n",
       "      <td>115215</td>\n",
       "      <td>4</td>\n",
       "      <td>64</td>\n",
       "      <td>7630</td>\n",
       "      <td>73</td>\n",
       "      <td>8.56</td>\n",
       "      <td>11.98</td>\n",
       "      <td>10.27</td>\n",
       "      <td>2022-03-13</td>\n",
       "    </tr>\n",
       "  </tbody>\n",
       "</table>\n",
       "<p>642 rows × 10 columns</p>\n",
       "</div>"
      ],
      "text/plain": [
       "            RETURN_CODE ORDER_DETAIL_CODE RETURN_REASON_CODE  \\\n",
       "0                  1491             84858               None   \n",
       "1                  1492             84440                  2   \n",
       "2                  1493             84867                  4   \n",
       "3    21-7-2021 00:00:09             84873                  3   \n",
       "4                  1496             84488               None   \n",
       "..                  ...               ...                ...   \n",
       "637                2459            114921                  1   \n",
       "638                2465            114972                  3   \n",
       "639                2464            114967                  1   \n",
       "640                2466            114983                  5   \n",
       "641                2467            115215                  4   \n",
       "\n",
       "        RETURN_QUANTITY ORDER_NUMBER PRODUCT_NUMBER UNIT_COST UNIT_PRICE  \\\n",
       "0                     8         7446              6     87.63     123.56   \n",
       "1                     2         7316              8    151.77     151.77   \n",
       "2    24-6-2021 09:23:14         7359              8     78.26     134.63   \n",
       "3                    20         7448              8      None     134.63   \n",
       "4                     2         7438             17     64.36      90.09   \n",
       "..                  ...          ...            ...       ...        ...   \n",
       "637                None         7625             33      18.2       27.3   \n",
       "638   6-6-2021 09:22:12         7625             66     69.68      92.91   \n",
       "639                  12         7623             63     30.63      45.97   \n",
       "640                  66         7622             71      60.5      90.76   \n",
       "641                  64         7630             73      8.56      11.98   \n",
       "\n",
       "    UNIT_SALE_PRICE ORDER_DATE  \n",
       "0            123.56 2021-07-23  \n",
       "1             88.23 2020-10-18  \n",
       "2            134.63 2021-06-12  \n",
       "3            126.16 2021-07-16  \n",
       "4             90.09 2020-08-23  \n",
       "..              ...        ...  \n",
       "637            None 2021-05-17  \n",
       "638           46.45 2021-05-17  \n",
       "639           38.31 2021-10-14  \n",
       "640           75.63 2021-09-26  \n",
       "641           10.27 2022-03-13  \n",
       "\n",
       "[642 rows x 10 columns]"
      ]
     },
     "execution_count": 40,
     "metadata": {},
     "output_type": "execute_result"
    }
   ],
   "source": [
    "returned_producten"
   ]
  },
  {
   "cell_type": "code",
   "execution_count": 41,
   "id": "439a464f",
   "metadata": {},
   "outputs": [
    {
     "data": {
      "text/plain": [
       "0"
      ]
     },
     "execution_count": 41,
     "metadata": {},
     "output_type": "execute_result"
    }
   ],
   "source": [
    "returned_producten['RETURN_CODE'].isna().sum()"
   ]
  },
  {
   "cell_type": "code",
   "execution_count": 42,
   "id": "d64c377d",
   "metadata": {},
   "outputs": [
    {
     "data": {
      "text/plain": [
       "0"
      ]
     },
     "execution_count": 42,
     "metadata": {},
     "output_type": "execute_result"
    }
   ],
   "source": [
    "returned_producten['ORDER_DETAIL_CODE'].isna().sum()"
   ]
  },
  {
   "cell_type": "code",
   "execution_count": 43,
   "id": "dfd5e065",
   "metadata": {},
   "outputs": [
    {
     "data": {
      "text/plain": [
       "26"
      ]
     },
     "execution_count": 43,
     "metadata": {},
     "output_type": "execute_result"
    }
   ],
   "source": [
    "returned_producten['RETURN_REASON_CODE'].isna().sum()"
   ]
  },
  {
   "cell_type": "code",
   "execution_count": 44,
   "id": "7df04a26",
   "metadata": {},
   "outputs": [
    {
     "data": {
      "text/plain": [
       "38"
      ]
     },
     "execution_count": 44,
     "metadata": {},
     "output_type": "execute_result"
    }
   ],
   "source": [
    "returned_producten['RETURN_QUANTITY'].isna().sum()"
   ]
  },
  {
   "cell_type": "code",
   "execution_count": 45,
   "id": "3929f99c",
   "metadata": {},
   "outputs": [
    {
     "data": {
      "text/plain": [
       "0"
      ]
     },
     "execution_count": 45,
     "metadata": {},
     "output_type": "execute_result"
    }
   ],
   "source": [
    "returned_producten['ORDER_NUMBER'].isna().sum()"
   ]
  },
  {
   "cell_type": "code",
   "execution_count": 46,
   "id": "04515212",
   "metadata": {},
   "outputs": [
    {
     "data": {
      "text/plain": [
       "27"
      ]
     },
     "execution_count": 46,
     "metadata": {},
     "output_type": "execute_result"
    }
   ],
   "source": [
    "returned_producten['PRODUCT_NUMBER'].isna().sum()"
   ]
  },
  {
   "cell_type": "code",
   "execution_count": 47,
   "id": "ac508c67",
   "metadata": {},
   "outputs": [
    {
     "data": {
      "text/plain": [
       "30"
      ]
     },
     "execution_count": 47,
     "metadata": {},
     "output_type": "execute_result"
    }
   ],
   "source": [
    "returned_producten['UNIT_COST'].isna().sum()"
   ]
  },
  {
   "cell_type": "code",
   "execution_count": 48,
   "id": "d5d8432b",
   "metadata": {},
   "outputs": [
    {
     "data": {
      "text/plain": [
       "25"
      ]
     },
     "execution_count": 48,
     "metadata": {},
     "output_type": "execute_result"
    }
   ],
   "source": [
    "returned_producten['UNIT_PRICE'].isna().sum()"
   ]
  },
  {
   "cell_type": "code",
   "execution_count": 49,
   "id": "d83e961e",
   "metadata": {},
   "outputs": [
    {
     "data": {
      "text/plain": [
       "23"
      ]
     },
     "execution_count": 49,
     "metadata": {},
     "output_type": "execute_result"
    }
   ],
   "source": [
    "returned_producten['UNIT_SALE_PRICE'].isna().sum()"
   ]
  },
  {
   "cell_type": "code",
   "execution_count": 50,
   "id": "872459a1",
   "metadata": {},
   "outputs": [
    {
     "data": {
      "text/plain": [
       "24"
      ]
     },
     "execution_count": 50,
     "metadata": {},
     "output_type": "execute_result"
    }
   ],
   "source": [
    "returned_producten['ORDER_DATE'].isna().sum()"
   ]
  },
  {
   "cell_type": "code",
   "execution_count": 51,
   "id": "0dd1d47f",
   "metadata": {},
   "outputs": [
    {
     "data": {
      "text/plain": [
       "0"
      ]
     },
     "execution_count": 51,
     "metadata": {},
     "output_type": "execute_result"
    }
   ],
   "source": [
    "returned_producten['RETURN_QUANTITY'] = returned_producten['RETURN_QUANTITY'].fillna('onbekend')\n",
    "returned_producten['RETURN_QUANTITY'].isna().sum()"
   ]
  },
  {
   "cell_type": "code",
   "execution_count": 52,
   "id": "70d7dd0c",
   "metadata": {},
   "outputs": [
    {
     "data": {
      "text/plain": [
       "0"
      ]
     },
     "execution_count": 52,
     "metadata": {},
     "output_type": "execute_result"
    }
   ],
   "source": [
    "returned_producten['UNIT_COST'] = returned_producten['UNIT_COST'].fillna('onbekend')\n",
    "returned_producten['UNIT_COST'].isna().sum()"
   ]
  },
  {
   "cell_type": "code",
   "execution_count": 53,
   "id": "a47d98b0",
   "metadata": {},
   "outputs": [
    {
     "data": {
      "text/plain": [
       "0"
      ]
     },
     "execution_count": 53,
     "metadata": {},
     "output_type": "execute_result"
    }
   ],
   "source": [
    "returned_producten['UNIT_PRICE'] = returned_producten['UNIT_PRICE'].fillna('onbekend')\n",
    "returned_producten['UNIT_PRICE'].isna().sum()"
   ]
  },
  {
   "cell_type": "code",
   "execution_count": 54,
   "id": "79e6f9d1",
   "metadata": {},
   "outputs": [
    {
     "data": {
      "text/plain": [
       "0"
      ]
     },
     "execution_count": 54,
     "metadata": {},
     "output_type": "execute_result"
    }
   ],
   "source": [
    "returned_producten['UNIT_SALE_PRICE'] = returned_producten['UNIT_SALE_PRICE'].fillna('onbekend')\n",
    "returned_producten['UNIT_SALE_PRICE'].isna().sum()"
   ]
  },
  {
   "cell_type": "code",
   "execution_count": 55,
   "id": "250d09a8",
   "metadata": {},
   "outputs": [
    {
     "data": {
      "text/plain": [
       "0"
      ]
     },
     "execution_count": 55,
     "metadata": {},
     "output_type": "execute_result"
    }
   ],
   "source": [
    "returned_producten['ORDER_DATE'] = returned_producten['ORDER_DATE'].fillna('onbekend')\n",
    "returned_producten['ORDER_DATE'].isna().sum()"
   ]
  },
  {
   "cell_type": "code",
   "execution_count": 56,
   "id": "5b95cecf",
   "metadata": {},
   "outputs": [
    {
     "data": {
      "text/html": [
       "<div>\n",
       "<style scoped>\n",
       "    .dataframe tbody tr th:only-of-type {\n",
       "        vertical-align: middle;\n",
       "    }\n",
       "\n",
       "    .dataframe tbody tr th {\n",
       "        vertical-align: top;\n",
       "    }\n",
       "\n",
       "    .dataframe thead th {\n",
       "        text-align: right;\n",
       "    }\n",
       "</style>\n",
       "<table border=\"1\" class=\"dataframe\">\n",
       "  <thead>\n",
       "    <tr style=\"text-align: right;\">\n",
       "      <th></th>\n",
       "      <th>RETURN_CODE</th>\n",
       "      <th>ORDER_DETAIL_CODE</th>\n",
       "      <th>RETURN_REASON_CODE</th>\n",
       "      <th>RETURN_QUANTITY</th>\n",
       "      <th>ORDER_NUMBER</th>\n",
       "      <th>PRODUCT_NUMBER</th>\n",
       "      <th>UNIT_COST</th>\n",
       "      <th>UNIT_PRICE</th>\n",
       "      <th>UNIT_SALE_PRICE</th>\n",
       "      <th>ORDER_DATE</th>\n",
       "    </tr>\n",
       "  </thead>\n",
       "  <tbody>\n",
       "    <tr>\n",
       "      <th>0</th>\n",
       "      <td>1491</td>\n",
       "      <td>84858</td>\n",
       "      <td>None</td>\n",
       "      <td>8</td>\n",
       "      <td>7446</td>\n",
       "      <td>6</td>\n",
       "      <td>87.63</td>\n",
       "      <td>123.56</td>\n",
       "      <td>123.56</td>\n",
       "      <td>2021-07-23 00:00:00</td>\n",
       "    </tr>\n",
       "    <tr>\n",
       "      <th>4</th>\n",
       "      <td>1496</td>\n",
       "      <td>84488</td>\n",
       "      <td>None</td>\n",
       "      <td>2</td>\n",
       "      <td>7438</td>\n",
       "      <td>17</td>\n",
       "      <td>64.36</td>\n",
       "      <td>90.09</td>\n",
       "      <td>90.09</td>\n",
       "      <td>2020-08-23 00:00:00</td>\n",
       "    </tr>\n",
       "    <tr>\n",
       "      <th>24</th>\n",
       "      <td>1529</td>\n",
       "      <td>111150</td>\n",
       "      <td>None</td>\n",
       "      <td>10</td>\n",
       "      <td>7604</td>\n",
       "      <td>22</td>\n",
       "      <td>10.18</td>\n",
       "      <td>15.28</td>\n",
       "      <td>14.52</td>\n",
       "      <td>2021-08-20 00:00:00</td>\n",
       "    </tr>\n",
       "    <tr>\n",
       "      <th>30</th>\n",
       "      <td>1535</td>\n",
       "      <td>112039</td>\n",
       "      <td>None</td>\n",
       "      <td>4</td>\n",
       "      <td>7557</td>\n",
       "      <td>53</td>\n",
       "      <td>28.55</td>\n",
       "      <td>39.99</td>\n",
       "      <td>37.13</td>\n",
       "      <td>2022-06-24 00:00:00</td>\n",
       "    </tr>\n",
       "    <tr>\n",
       "      <th>46</th>\n",
       "      <td>1565</td>\n",
       "      <td>47776</td>\n",
       "      <td>None</td>\n",
       "      <td>3</td>\n",
       "      <td>1472</td>\n",
       "      <td>5</td>\n",
       "      <td>38.4</td>\n",
       "      <td>54.93</td>\n",
       "      <td>52</td>\n",
       "      <td>2020-01-10 00:00:00</td>\n",
       "    </tr>\n",
       "    <tr>\n",
       "      <th>90</th>\n",
       "      <td>1618</td>\n",
       "      <td>110518</td>\n",
       "      <td>None</td>\n",
       "      <td>2</td>\n",
       "      <td>9442</td>\n",
       "      <td>12</td>\n",
       "      <td>473.07</td>\n",
       "      <td>615</td>\n",
       "      <td>579.52</td>\n",
       "      <td>2022-09-16 00:00:00</td>\n",
       "    </tr>\n",
       "    <tr>\n",
       "      <th>129</th>\n",
       "      <td>1668</td>\n",
       "      <td>107586</td>\n",
       "      <td>None</td>\n",
       "      <td>4</td>\n",
       "      <td>9297</td>\n",
       "      <td>None</td>\n",
       "      <td>16.87</td>\n",
       "      <td>25.31</td>\n",
       "      <td>25.31</td>\n",
       "      <td>2021-10-19 00:00:00</td>\n",
       "    </tr>\n",
       "    <tr>\n",
       "      <th>172</th>\n",
       "      <td>1733</td>\n",
       "      <td>53663</td>\n",
       "      <td>None</td>\n",
       "      <td>2</td>\n",
       "      <td>2519</td>\n",
       "      <td>14</td>\n",
       "      <td>489.42</td>\n",
       "      <td>611.78</td>\n",
       "      <td>598.53</td>\n",
       "      <td>2021-07-23 00:00:00</td>\n",
       "    </tr>\n",
       "    <tr>\n",
       "      <th>175</th>\n",
       "      <td>1738</td>\n",
       "      <td>53714</td>\n",
       "      <td>None</td>\n",
       "      <td>2</td>\n",
       "      <td>2465</td>\n",
       "      <td>21</td>\n",
       "      <td>30.28</td>\n",
       "      <td>36.34</td>\n",
       "      <td>34.22</td>\n",
       "      <td>2021-11-25 00:00:00</td>\n",
       "    </tr>\n",
       "    <tr>\n",
       "      <th>222</th>\n",
       "      <td>2163</td>\n",
       "      <td>2</td>\n",
       "      <td>None</td>\n",
       "      <td>76885</td>\n",
       "      <td>7237</td>\n",
       "      <td>94</td>\n",
       "      <td>84308</td>\n",
       "      <td>5</td>\n",
       "      <td>5</td>\n",
       "      <td>2022-03-30 00:00:00</td>\n",
       "    </tr>\n",
       "    <tr>\n",
       "      <th>303</th>\n",
       "      <td>1899</td>\n",
       "      <td>60787</td>\n",
       "      <td>None</td>\n",
       "      <td>2</td>\n",
       "      <td>5188</td>\n",
       "      <td>63</td>\n",
       "      <td>30.63</td>\n",
       "      <td>45.97</td>\n",
       "      <td>42.13</td>\n",
       "      <td>2021-11-25 00:00:00</td>\n",
       "    </tr>\n",
       "    <tr>\n",
       "      <th>311</th>\n",
       "      <td>1909</td>\n",
       "      <td>97488</td>\n",
       "      <td>None</td>\n",
       "      <td>12</td>\n",
       "      <td>8349</td>\n",
       "      <td>1</td>\n",
       "      <td>4.01</td>\n",
       "      <td>6.03</td>\n",
       "      <td>6.03</td>\n",
       "      <td>onbekend</td>\n",
       "    </tr>\n",
       "    <tr>\n",
       "      <th>359</th>\n",
       "      <td>1973</td>\n",
       "      <td>99734</td>\n",
       "      <td>None</td>\n",
       "      <td>4</td>\n",
       "      <td>8440</td>\n",
       "      <td>13</td>\n",
       "      <td>431.42</td>\n",
       "      <td>582.41</td>\n",
       "      <td>546.44</td>\n",
       "      <td>2020-09-27 00:00:00</td>\n",
       "    </tr>\n",
       "    <tr>\n",
       "      <th>361</th>\n",
       "      <td>1974</td>\n",
       "      <td>99739</td>\n",
       "      <td>None</td>\n",
       "      <td>2</td>\n",
       "      <td>9250</td>\n",
       "      <td>15</td>\n",
       "      <td>554.59</td>\n",
       "      <td>831.88</td>\n",
       "      <td>626.94</td>\n",
       "      <td>2020-10-16 00:00:00</td>\n",
       "    </tr>\n",
       "    <tr>\n",
       "      <th>367</th>\n",
       "      <td>1981</td>\n",
       "      <td>99810</td>\n",
       "      <td>None</td>\n",
       "      <td>54</td>\n",
       "      <td>9251</td>\n",
       "      <td>None</td>\n",
       "      <td>32.02</td>\n",
       "      <td>51.24</td>\n",
       "      <td>51.24</td>\n",
       "      <td>2020-10-06 00:00:00</td>\n",
       "    </tr>\n",
       "    <tr>\n",
       "      <th>403</th>\n",
       "      <td>2034</td>\n",
       "      <td>101561</td>\n",
       "      <td>None</td>\n",
       "      <td>24</td>\n",
       "      <td>8527</td>\n",
       "      <td>73</td>\n",
       "      <td>9.13</td>\n",
       "      <td>12.78</td>\n",
       "      <td>12.78</td>\n",
       "      <td>2020-09-22 00:00:00</td>\n",
       "    </tr>\n",
       "    <tr>\n",
       "      <th>405</th>\n",
       "      <td>2037</td>\n",
       "      <td>102578</td>\n",
       "      <td>None</td>\n",
       "      <td>4</td>\n",
       "      <td>8553</td>\n",
       "      <td>77</td>\n",
       "      <td>45.31</td>\n",
       "      <td>90.63</td>\n",
       "      <td>83.84</td>\n",
       "      <td>2021-04-03 00:00:00</td>\n",
       "    </tr>\n",
       "    <tr>\n",
       "      <th>414</th>\n",
       "      <td>2055</td>\n",
       "      <td>104117</td>\n",
       "      <td>None</td>\n",
       "      <td>onbekend</td>\n",
       "      <td>8774</td>\n",
       "      <td>34</td>\n",
       "      <td>28.94</td>\n",
       "      <td>46.31</td>\n",
       "      <td>98</td>\n",
       "      <td>2021-06-24 00:00:00</td>\n",
       "    </tr>\n",
       "    <tr>\n",
       "      <th>445</th>\n",
       "      <td>2104</td>\n",
       "      <td>73468</td>\n",
       "      <td>None</td>\n",
       "      <td>2</td>\n",
       "      <td>6579</td>\n",
       "      <td>15</td>\n",
       "      <td>554.59</td>\n",
       "      <td>831.88</td>\n",
       "      <td>831.88</td>\n",
       "      <td>2020-02-09 00:00:00</td>\n",
       "    </tr>\n",
       "    <tr>\n",
       "      <th>459</th>\n",
       "      <td>2141</td>\n",
       "      <td>76273</td>\n",
       "      <td>None</td>\n",
       "      <td>onbekend</td>\n",
       "      <td>5858</td>\n",
       "      <td>30</td>\n",
       "      <td>6.78</td>\n",
       "      <td>13.57</td>\n",
       "      <td>13.57</td>\n",
       "      <td>2021-06-07 00:00:00</td>\n",
       "    </tr>\n",
       "    <tr>\n",
       "      <th>463</th>\n",
       "      <td>2183</td>\n",
       "      <td>74209</td>\n",
       "      <td>None</td>\n",
       "      <td>4</td>\n",
       "      <td>5649</td>\n",
       "      <td>63</td>\n",
       "      <td>32.59</td>\n",
       "      <td>48.88</td>\n",
       "      <td>48.88</td>\n",
       "      <td>2020-09-17 00:00:00</td>\n",
       "    </tr>\n",
       "    <tr>\n",
       "      <th>468</th>\n",
       "      <td>2143</td>\n",
       "      <td>73973</td>\n",
       "      <td>None</td>\n",
       "      <td>4</td>\n",
       "      <td>6299</td>\n",
       "      <td>32</td>\n",
       "      <td>18.25</td>\n",
       "      <td>27.37</td>\n",
       "      <td>27.37</td>\n",
       "      <td>2020-10-20 00:00:00</td>\n",
       "    </tr>\n",
       "    <tr>\n",
       "      <th>522</th>\n",
       "      <td>2240</td>\n",
       "      <td>49363</td>\n",
       "      <td>None</td>\n",
       "      <td>34</td>\n",
       "      <td>1545</td>\n",
       "      <td>110</td>\n",
       "      <td>60.63</td>\n",
       "      <td>121.29</td>\n",
       "      <td>121.29</td>\n",
       "      <td>2021-12-11 00:00:00</td>\n",
       "    </tr>\n",
       "    <tr>\n",
       "      <th>532</th>\n",
       "      <td>2254</td>\n",
       "      <td>108408</td>\n",
       "      <td>None</td>\n",
       "      <td>1-1-2022 00:00:39</td>\n",
       "      <td>9314</td>\n",
       "      <td>109</td>\n",
       "      <td>35.15</td>\n",
       "      <td>63.27</td>\n",
       "      <td>63.27</td>\n",
       "      <td>2021-11-07 00:00:00</td>\n",
       "    </tr>\n",
       "    <tr>\n",
       "      <th>565</th>\n",
       "      <td>2328</td>\n",
       "      <td>75053</td>\n",
       "      <td>None</td>\n",
       "      <td>2</td>\n",
       "      <td>6209</td>\n",
       "      <td>96</td>\n",
       "      <td>16.1</td>\n",
       "      <td>22.54</td>\n",
       "      <td>22.54</td>\n",
       "      <td>2020-07-25 00:00:00</td>\n",
       "    </tr>\n",
       "    <tr>\n",
       "      <th>576</th>\n",
       "      <td>2352</td>\n",
       "      <td>113188</td>\n",
       "      <td>None</td>\n",
       "      <td>8</td>\n",
       "      <td>7834</td>\n",
       "      <td>94</td>\n",
       "      <td>2</td>\n",
       "      <td>5</td>\n",
       "      <td>4.55</td>\n",
       "      <td>2022-07-11 00:00:00</td>\n",
       "    </tr>\n",
       "  </tbody>\n",
       "</table>\n",
       "</div>"
      ],
      "text/plain": [
       "    RETURN_CODE ORDER_DETAIL_CODE RETURN_REASON_CODE    RETURN_QUANTITY  \\\n",
       "0          1491             84858               None                  8   \n",
       "4          1496             84488               None                  2   \n",
       "24         1529            111150               None                 10   \n",
       "30         1535            112039               None                  4   \n",
       "46         1565             47776               None                  3   \n",
       "90         1618            110518               None                  2   \n",
       "129        1668            107586               None                  4   \n",
       "172        1733             53663               None                  2   \n",
       "175        1738             53714               None                  2   \n",
       "222        2163                 2               None              76885   \n",
       "303        1899             60787               None                  2   \n",
       "311        1909             97488               None                 12   \n",
       "359        1973             99734               None                  4   \n",
       "361        1974             99739               None                  2   \n",
       "367        1981             99810               None                 54   \n",
       "403        2034            101561               None                 24   \n",
       "405        2037            102578               None                  4   \n",
       "414        2055            104117               None           onbekend   \n",
       "445        2104             73468               None                  2   \n",
       "459        2141             76273               None           onbekend   \n",
       "463        2183             74209               None                  4   \n",
       "468        2143             73973               None                  4   \n",
       "522        2240             49363               None                 34   \n",
       "532        2254            108408               None  1-1-2022 00:00:39   \n",
       "565        2328             75053               None                  2   \n",
       "576        2352            113188               None                  8   \n",
       "\n",
       "    ORDER_NUMBER PRODUCT_NUMBER UNIT_COST UNIT_PRICE UNIT_SALE_PRICE  \\\n",
       "0           7446              6     87.63     123.56          123.56   \n",
       "4           7438             17     64.36      90.09           90.09   \n",
       "24          7604             22     10.18      15.28           14.52   \n",
       "30          7557             53     28.55      39.99           37.13   \n",
       "46          1472              5      38.4      54.93              52   \n",
       "90          9442             12    473.07        615          579.52   \n",
       "129         9297           None     16.87      25.31           25.31   \n",
       "172         2519             14    489.42     611.78          598.53   \n",
       "175         2465             21     30.28      36.34           34.22   \n",
       "222         7237             94     84308          5               5   \n",
       "303         5188             63     30.63      45.97           42.13   \n",
       "311         8349              1      4.01       6.03            6.03   \n",
       "359         8440             13    431.42     582.41          546.44   \n",
       "361         9250             15    554.59     831.88          626.94   \n",
       "367         9251           None     32.02      51.24           51.24   \n",
       "403         8527             73      9.13      12.78           12.78   \n",
       "405         8553             77     45.31      90.63           83.84   \n",
       "414         8774             34     28.94      46.31              98   \n",
       "445         6579             15    554.59     831.88          831.88   \n",
       "459         5858             30      6.78      13.57           13.57   \n",
       "463         5649             63     32.59      48.88           48.88   \n",
       "468         6299             32     18.25      27.37           27.37   \n",
       "522         1545            110     60.63     121.29          121.29   \n",
       "532         9314            109     35.15      63.27           63.27   \n",
       "565         6209             96      16.1      22.54           22.54   \n",
       "576         7834             94         2          5            4.55   \n",
       "\n",
       "              ORDER_DATE  \n",
       "0    2021-07-23 00:00:00  \n",
       "4    2020-08-23 00:00:00  \n",
       "24   2021-08-20 00:00:00  \n",
       "30   2022-06-24 00:00:00  \n",
       "46   2020-01-10 00:00:00  \n",
       "90   2022-09-16 00:00:00  \n",
       "129  2021-10-19 00:00:00  \n",
       "172  2021-07-23 00:00:00  \n",
       "175  2021-11-25 00:00:00  \n",
       "222  2022-03-30 00:00:00  \n",
       "303  2021-11-25 00:00:00  \n",
       "311             onbekend  \n",
       "359  2020-09-27 00:00:00  \n",
       "361  2020-10-16 00:00:00  \n",
       "367  2020-10-06 00:00:00  \n",
       "403  2020-09-22 00:00:00  \n",
       "405  2021-04-03 00:00:00  \n",
       "414  2021-06-24 00:00:00  \n",
       "445  2020-02-09 00:00:00  \n",
       "459  2021-06-07 00:00:00  \n",
       "463  2020-09-17 00:00:00  \n",
       "468  2020-10-20 00:00:00  \n",
       "522  2021-12-11 00:00:00  \n",
       "532  2021-11-07 00:00:00  \n",
       "565  2020-07-25 00:00:00  \n",
       "576  2022-07-11 00:00:00  "
      ]
     },
     "execution_count": 56,
     "metadata": {},
     "output_type": "execute_result"
    }
   ],
   "source": [
    "returned_producten.loc[returned_producten['RETURN_REASON_CODE'].isna(), :]"
   ]
  },
  {
   "cell_type": "code",
   "execution_count": 66,
   "id": "8afbf5de",
   "metadata": {},
   "outputs": [
    {
     "data": {
      "text/plain": [
       "0"
      ]
     },
     "execution_count": 66,
     "metadata": {},
     "output_type": "execute_result"
    }
   ],
   "source": [
    "returned_producten['RETURN_REASON_CODE'] = returned_producten['RETURN_REASON_CODE'].fillna('onbekend')\n",
    "returned_producten['RETURN_REASON_CODE'].isna().sum()"
   ]
  },
  {
   "cell_type": "code",
   "execution_count": 67,
   "id": "434222a0",
   "metadata": {},
   "outputs": [
    {
     "data": {
      "text/plain": [
       "0"
      ]
     },
     "execution_count": 67,
     "metadata": {},
     "output_type": "execute_result"
    }
   ],
   "source": [
    "returned_producten['PRODUCT_NUMBER'] = returned_producten['PRODUCT_NUMBER'].fillna('onbekend')\n",
    "returned_producten['PRODUCT_NUMBER'].isna().sum()"
   ]
  },
  {
   "cell_type": "code",
   "execution_count": 68,
   "id": "eb155a07",
   "metadata": {},
   "outputs": [
    {
     "data": {
      "text/plain": [
       "PRODUCT_NUMBER       object\n",
       "PRODUCT_TYPE_CODE    object\n",
       "PRODUCT_NAME         object\n",
       "PRODUCT_TYPE_EN      object\n",
       "dtype: object"
      ]
     },
     "execution_count": 68,
     "metadata": {},
     "output_type": "execute_result"
    }
   ],
   "source": [
    "product_ster.dtypes"
   ]
  },
  {
   "cell_type": "code",
   "execution_count": 72,
   "id": "276581bf",
   "metadata": {},
   "outputs": [
    {
     "data": {
      "text/plain": [
       "['PRODUCT_NAME', 'PRODUCT_TYPE_EN']"
      ]
     },
     "execution_count": 72,
     "metadata": {},
     "output_type": "execute_result"
    }
   ],
   "source": [
    "product_ster_numeric_columns = ['PRODUCT_NUMBER', 'PRODUCT_TYPE_CODE']\n",
    "product_ster_non_numeric_columns = list(product_ster.drop(product_ster_numeric_columns, axis = 1).columns)\n",
    "product_ster_non_numeric_columns"
   ]
  },
  {
   "cell_type": "code",
   "execution_count": 73,
   "id": "31613b9e",
   "metadata": {},
   "outputs": [
    {
     "data": {
      "text/plain": [
       "{0: [],\n",
       " 1: [],\n",
       " 2: [],\n",
       " 3: [],\n",
       " 4: [],\n",
       " 5: [],\n",
       " 6: [],\n",
       " 7: [],\n",
       " 8: [],\n",
       " 9: [],\n",
       " 10: [],\n",
       " 11: [],\n",
       " 12: [],\n",
       " 13: [],\n",
       " 14: [],\n",
       " 15: [],\n",
       " 16: [],\n",
       " 17: [],\n",
       " 18: [],\n",
       " 19: [],\n",
       " 20: [],\n",
       " 21: [],\n",
       " 22: [],\n",
       " 23: [],\n",
       " 24: [],\n",
       " 25: [],\n",
       " 26: [],\n",
       " 27: [],\n",
       " 28: [],\n",
       " 29: [],\n",
       " 30: [],\n",
       " 31: [],\n",
       " 32: [],\n",
       " 33: [],\n",
       " 34: [],\n",
       " 35: [],\n",
       " 36: [],\n",
       " 37: [],\n",
       " 38: [],\n",
       " 39: [],\n",
       " 40: [],\n",
       " 41: [],\n",
       " 42: [],\n",
       " 43: [],\n",
       " 44: [],\n",
       " 45: [],\n",
       " 46: [],\n",
       " 47: [],\n",
       " 48: [],\n",
       " 49: [],\n",
       " 50: [],\n",
       " 51: [],\n",
       " 52: [],\n",
       " 53: [],\n",
       " 54: [],\n",
       " 55: [],\n",
       " 56: [],\n",
       " 57: [],\n",
       " 58: [],\n",
       " 59: [],\n",
       " 60: [],\n",
       " 61: [],\n",
       " 62: [],\n",
       " 63: [],\n",
       " 64: [],\n",
       " 65: [],\n",
       " 66: [],\n",
       " 67: [],\n",
       " 68: [],\n",
       " 69: [],\n",
       " 70: [],\n",
       " 71: [],\n",
       " 72: [],\n",
       " 73: [],\n",
       " 74: [],\n",
       " 75: [],\n",
       " 76: [],\n",
       " 77: [],\n",
       " 78: [],\n",
       " 79: [],\n",
       " 80: [],\n",
       " 81: [],\n",
       " 82: [],\n",
       " 83: [],\n",
       " 84: [],\n",
       " 85: [],\n",
       " 86: [],\n",
       " 87: [],\n",
       " 88: [],\n",
       " 89: [],\n",
       " 90: [],\n",
       " 91: [],\n",
       " 92: [],\n",
       " 93: [],\n",
       " 94: [],\n",
       " 95: [],\n",
       " 96: [],\n",
       " 97: [],\n",
       " 98: [],\n",
       " 99: [],\n",
       " 100: [],\n",
       " 101: [],\n",
       " 102: [],\n",
       " 103: [],\n",
       " 104: [],\n",
       " 105: [],\n",
       " 106: [],\n",
       " 107: [],\n",
       " 108: []}"
      ]
     },
     "execution_count": 73,
     "metadata": {},
     "output_type": "execute_result"
    }
   ],
   "source": [
    "wrong_index_dict = dict()\n",
    "\n",
    "for index in product_ster.index:\n",
    "    wrong_index_dict[index] = []\n",
    "\n",
    "wrong_index_dict"
   ]
  },
  {
   "cell_type": "code",
   "execution_count": 75,
   "id": "f46bdbad",
   "metadata": {},
   "outputs": [
    {
     "data": {
      "text/plain": [
       "{0: [],\n",
       " 1: [],\n",
       " 2: [],\n",
       " 3: [],\n",
       " 4: [],\n",
       " 5: [],\n",
       " 6: [],\n",
       " 7: [],\n",
       " 8: [],\n",
       " 9: [],\n",
       " 10: [],\n",
       " 11: [],\n",
       " 12: [],\n",
       " 13: [],\n",
       " 14: [],\n",
       " 15: [],\n",
       " 16: [],\n",
       " 17: [],\n",
       " 18: [],\n",
       " 19: [],\n",
       " 20: [],\n",
       " 21: [],\n",
       " 22: [],\n",
       " 23: [],\n",
       " 24: [],\n",
       " 25: [],\n",
       " 26: [],\n",
       " 27: [],\n",
       " 28: [],\n",
       " 29: [],\n",
       " 30: [],\n",
       " 31: [],\n",
       " 32: [],\n",
       " 33: [],\n",
       " 34: [],\n",
       " 35: [],\n",
       " 36: [],\n",
       " 37: [],\n",
       " 38: [],\n",
       " 39: [],\n",
       " 40: [],\n",
       " 41: [],\n",
       " 42: [],\n",
       " 43: [],\n",
       " 44: [],\n",
       " 45: [],\n",
       " 46: [],\n",
       " 47: [],\n",
       " 48: [],\n",
       " 49: [],\n",
       " 50: [],\n",
       " 51: [],\n",
       " 52: [],\n",
       " 53: [],\n",
       " 54: [],\n",
       " 55: [],\n",
       " 56: [],\n",
       " 57: [],\n",
       " 58: [],\n",
       " 59: [],\n",
       " 60: ['PRODUCT_NAME'],\n",
       " 61: [],\n",
       " 62: [],\n",
       " 63: [],\n",
       " 64: [],\n",
       " 65: [],\n",
       " 66: [],\n",
       " 67: [],\n",
       " 68: [],\n",
       " 69: [],\n",
       " 70: [],\n",
       " 71: [],\n",
       " 72: [],\n",
       " 73: [],\n",
       " 74: [],\n",
       " 75: [],\n",
       " 76: [],\n",
       " 77: [],\n",
       " 78: [],\n",
       " 79: [],\n",
       " 80: [],\n",
       " 81: [],\n",
       " 82: [],\n",
       " 83: [],\n",
       " 84: [],\n",
       " 85: [],\n",
       " 86: [],\n",
       " 87: ['PRODUCT_NAME'],\n",
       " 88: [],\n",
       " 89: [],\n",
       " 90: [],\n",
       " 91: [],\n",
       " 92: [],\n",
       " 93: [],\n",
       " 94: [],\n",
       " 95: [],\n",
       " 96: [],\n",
       " 97: [],\n",
       " 98: [],\n",
       " 99: [],\n",
       " 100: [],\n",
       " 101: [],\n",
       " 102: [],\n",
       " 103: [],\n",
       " 104: [],\n",
       " 105: [],\n",
       " 106: [],\n",
       " 107: [],\n",
       " 108: []}"
      ]
     },
     "execution_count": 75,
     "metadata": {},
     "output_type": "execute_result"
    }
   ],
   "source": [
    "for product_ster_numeric_columns in product_ster_numeric_columns:\n",
    "    #Stringwaarden vinden in numerieke kolommen:\n",
    "    wrong_rows = product_ster.loc[pd.to_numeric(product_ster[product_ster_numeric_columns], errors = 'coerce').isnull(), [product_ster_numeric_columns]]\n",
    "    \n",
    "    for index, row in wrong_rows.iterrows():\n",
    "        wrong_index_dict[index].append(product_ster_numeric_columns)\n",
    "    \n",
    "for product_ster_non_numeric_columns in product_ster_non_numeric_columns:\n",
    "    #Numerieke waarden vinden in stringkolommen\n",
    "    wrong_rows = product_ster.loc[~pd.to_numeric(product_ster[product_ster_non_numeric_columns], errors = 'coerce').isnull(), [product_ster_non_numeric_columns]]\n",
    "    \n",
    "    for index, row in wrong_rows.iterrows():\n",
    "        wrong_index_dict[index].append(product_ster_non_numeric_columns)\n",
    "    \n",
    "wrong_index_dict"
   ]
  },
  {
   "cell_type": "code",
   "execution_count": 76,
   "id": "febae790",
   "metadata": {},
   "outputs": [
    {
     "ename": "IndexError",
     "evalue": "list index out of range",
     "output_type": "error",
     "traceback": [
      "\u001b[1;31m---------------------------------------------------------------------------\u001b[0m",
      "\u001b[1;31mIndexError\u001b[0m                                Traceback (most recent call last)",
      "\u001b[1;32m~\\AppData\\Local\\Temp\\ipykernel_16752\\872264080.py\u001b[0m in \u001b[0;36m<module>\u001b[1;34m\u001b[0m\n\u001b[0;32m      4\u001b[0m         \u001b[0mindex\u001b[0m \u001b[1;33m=\u001b[0m \u001b[0mkey_value_pair\u001b[0m\u001b[1;33m[\u001b[0m\u001b[1;36m0\u001b[0m\u001b[1;33m]\u001b[0m\u001b[1;33m\u001b[0m\u001b[1;33m\u001b[0m\u001b[0m\n\u001b[0;32m      5\u001b[0m         \u001b[0mkolom1\u001b[0m \u001b[1;33m=\u001b[0m \u001b[0mkey_value_pair\u001b[0m\u001b[1;33m[\u001b[0m\u001b[1;36m1\u001b[0m\u001b[1;33m]\u001b[0m\u001b[1;33m[\u001b[0m\u001b[1;36m0\u001b[0m\u001b[1;33m]\u001b[0m\u001b[1;33m\u001b[0m\u001b[1;33m\u001b[0m\u001b[0m\n\u001b[1;32m----> 6\u001b[1;33m         \u001b[0mkolom2\u001b[0m \u001b[1;33m=\u001b[0m \u001b[0mkey_value_pair\u001b[0m\u001b[1;33m[\u001b[0m\u001b[1;36m1\u001b[0m\u001b[1;33m]\u001b[0m\u001b[1;33m[\u001b[0m\u001b[1;36m1\u001b[0m\u001b[1;33m]\u001b[0m\u001b[1;33m\u001b[0m\u001b[1;33m\u001b[0m\u001b[0m\n\u001b[0m\u001b[0;32m      7\u001b[0m \u001b[1;33m\u001b[0m\u001b[0m\n\u001b[0;32m      8\u001b[0m         \u001b[0mproduct_ster\u001b[0m\u001b[1;33m.\u001b[0m\u001b[0mloc\u001b[0m\u001b[1;33m[\u001b[0m\u001b[0mproduct_ster\u001b[0m\u001b[1;33m.\u001b[0m\u001b[0mindex\u001b[0m \u001b[1;33m==\u001b[0m \u001b[0mindex\u001b[0m\u001b[1;33m,\u001b[0m \u001b[1;33m[\u001b[0m\u001b[0mkolom1\u001b[0m\u001b[1;33m,\u001b[0m \u001b[0mkolom2\u001b[0m\u001b[1;33m]\u001b[0m\u001b[1;33m]\u001b[0m \u001b[1;33m=\u001b[0m \u001b[0mproduct_ster\u001b[0m\u001b[1;33m.\u001b[0m\u001b[0mloc\u001b[0m\u001b[1;33m[\u001b[0m\u001b[0mproduct\u001b[0m\u001b[1;33m.\u001b[0m\u001b[0mindex\u001b[0m \u001b[1;33m==\u001b[0m \u001b[0mindex\u001b[0m\u001b[1;33m,\u001b[0m \u001b[1;33m[\u001b[0m\u001b[0mkolom2\u001b[0m\u001b[1;33m,\u001b[0m \u001b[0mkolom1\u001b[0m\u001b[1;33m]\u001b[0m\u001b[1;33m]\u001b[0m\u001b[1;33m.\u001b[0m\u001b[0mvalues\u001b[0m\u001b[1;33m\u001b[0m\u001b[1;33m\u001b[0m\u001b[0m\n",
      "\u001b[1;31mIndexError\u001b[0m: list index out of range"
     ]
    }
   ],
   "source": [
    "for key_value_pair in list(wrong_index_dict.items()):\n",
    "    \n",
    "    if(key_value_pair[1]): #Als er minstens 1 item gevuld is op de index...\n",
    "        index = key_value_pair[0]\n",
    "        kolom1 = key_value_pair[1][0]\n",
    "        kolom2 = key_value_pair[1][1]\n",
    "        \n",
    "        product_ster.loc[product_ster.index == index, [kolom1, kolom2]] = product_ster.loc[product.index == index, [kolom2, kolom1]].values\n",
    "\n",
    "product_ster"
   ]
  },
  {
   "cell_type": "code",
   "execution_count": 58,
   "id": "662716e8",
   "metadata": {},
   "outputs": [],
   "source": [
    "returned_producten.to_excel(r'C:\\Users\\Tim\\Desktop\\Python\\returned_item.xlsx', sheet_name='returned_producten', index = False)\n",
    "reden.to_excel(r'C:\\Users\\Tim\\Desktop\\Python\\reden.xlsx', sheet_name='reden', index = False)\n",
    "verkoper.to_excel(r'C:\\Users\\Tim\\Desktop\\Python\\verkoper.xlsx', sheet_name='verkoper', index = False)\n",
    "datum.to_excel(r'C:\\Users\\Tim\\Desktop\\Python\\datum.xlsx', sheet_name='datum', index = False)\n",
    "product_ster.to_excel(r'C:\\Users\\Tim\\Desktop\\Python\\product.xlsx', sheet_name='product_ster', index = False)"
   ]
  },
  {
   "cell_type": "code",
   "execution_count": null,
   "id": "a3ddfada",
   "metadata": {},
   "outputs": [],
   "source": []
  }
 ],
 "metadata": {
  "kernelspec": {
   "display_name": "Python 3 (ipykernel)",
   "language": "python",
   "name": "python3"
  },
  "language_info": {
   "codemirror_mode": {
    "name": "ipython",
    "version": 3
   },
   "file_extension": ".py",
   "mimetype": "text/x-python",
   "name": "python",
   "nbconvert_exporter": "python",
   "pygments_lexer": "ipython3",
   "version": "3.9.13"
  }
 },
 "nbformat": 4,
 "nbformat_minor": 5
}
