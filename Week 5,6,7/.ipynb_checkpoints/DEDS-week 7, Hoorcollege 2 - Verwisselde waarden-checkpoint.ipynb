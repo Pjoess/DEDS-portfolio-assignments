{
 "cells": [
  {
   "cell_type": "markdown",
   "id": "0cbdb020",
   "metadata": {},
   "source": [
    "# DEDS-week 7, Hoorcollege 2 -Verwisselde waarden"
   ]
  },
  {
   "cell_type": "markdown",
   "id": "ea2a03d6",
   "metadata": {},
   "source": [
    "## Libraries importeren"
   ]
  },
  {
   "cell_type": "code",
   "execution_count": 1,
   "id": "e9e43f76",
   "metadata": {},
   "outputs": [
    {
     "name": "stderr",
     "output_type": "stream",
     "text": [
      "C:\\Users\\jelle\\anaconda3\\lib\\site-packages\\pandas\\core\\computation\\expressions.py:20: UserWarning: Pandas requires version '2.7.3' or newer of 'numexpr' (version '2.7.1' currently installed).\n",
      "  from pandas.core.computation.check import NUMEXPR_INSTALLED\n"
     ]
    }
   ],
   "source": [
    "import pandas as pd\n",
    "import pyodbc"
   ]
  },
  {
   "cell_type": "markdown",
   "id": "2a8e42a3",
   "metadata": {},
   "source": [
    "## DB-connecties maken"
   ]
  },
  {
   "cell_type": "code",
   "execution_count": 2,
   "id": "78fa5b56",
   "metadata": {},
   "outputs": [],
   "source": [
    "sales_conn = pyodbc.connect(r'Driver={Microsoft Access Driver (*.mdb, *.accdb)};DBQ=C:/Users/jelle/OneDrive - De Haagse Hogeschool/GO gemoderniseerd/go_sales_vervuild.accdb;')"
   ]
  },
  {
   "cell_type": "markdown",
   "id": "22b5a061",
   "metadata": {},
   "source": [
    "## Dataframe aanmaken vanuit SELECT op databasetabel"
   ]
  },
  {
   "cell_type": "code",
   "execution_count": 3,
   "id": "423675af",
   "metadata": {},
   "outputs": [
    {
     "name": "stderr",
     "output_type": "stream",
     "text": [
      "<ipython-input-3-346ed4155975>:1: UserWarning: pandas only supports SQLAlchemy connectable (engine/connection) or database string URI or sqlite3 DBAPI2 connection. Other DBAPI2 objects are not tested. Please consider using SQLAlchemy.\n",
      "  product = pd.read_sql(\"SELECT * FROM product\", sales_conn)\n"
     ]
    },
    {
     "data": {
      "text/html": [
       "<div>\n",
       "<style scoped>\n",
       "    .dataframe tbody tr th:only-of-type {\n",
       "        vertical-align: middle;\n",
       "    }\n",
       "\n",
       "    .dataframe tbody tr th {\n",
       "        vertical-align: top;\n",
       "    }\n",
       "\n",
       "    .dataframe thead th {\n",
       "        text-align: right;\n",
       "    }\n",
       "</style>\n",
       "<table border=\"1\" class=\"dataframe\">\n",
       "  <thead>\n",
       "    <tr style=\"text-align: right;\">\n",
       "      <th></th>\n",
       "      <th>PRODUCT_NUMBER</th>\n",
       "      <th>INTRODUCTION_DATE</th>\n",
       "      <th>PRODUCT_TYPE_CODE</th>\n",
       "      <th>PRODUCTION_COST</th>\n",
       "      <th>MARGIN</th>\n",
       "      <th>PRODUCT_IMAGE</th>\n",
       "      <th>LANGUAGE</th>\n",
       "      <th>PRODUCT_NAME</th>\n",
       "      <th>DESCRIPTION</th>\n",
       "    </tr>\n",
       "  </thead>\n",
       "  <tbody>\n",
       "    <tr>\n",
       "      <th>0</th>\n",
       "      <td>53</td>\n",
       "      <td>10-1-2021</td>\n",
       "      <td>8</td>\n",
       "      <td>28.55</td>\n",
       "      <td>.28</td>\n",
       "      <td>P53ME2CA8.jpg</td>\n",
       "      <td>EN</td>\n",
       "      <td>Firefly Climbing Lamp</td>\n",
       "      <td>This climbing lamp is water-resistant. It come...</td>\n",
       "    </tr>\n",
       "    <tr>\n",
       "      <th>4</th>\n",
       "      <td>57</td>\n",
       "      <td>10-1-2021</td>\n",
       "      <td>9</td>\n",
       "      <td>40</td>\n",
       "      <td>.5</td>\n",
       "      <td>P57ME2TL9.jpg</td>\n",
       "      <td>EN</td>\n",
       "      <td>Granite Ice</td>\n",
       "      <td>A general purpose mountaineering axe for snow ...</td>\n",
       "    </tr>\n",
       "    <tr>\n",
       "      <th>5</th>\n",
       "      <td>58</td>\n",
       "      <td>10-1-2021</td>\n",
       "      <td>9</td>\n",
       "      <td>57.13</td>\n",
       "      <td>.28</td>\n",
       "      <td>P58ME2TL9.jpg</td>\n",
       "      <td>EN</td>\n",
       "      <td>Granite Hammer</td>\n",
       "      <td>A solid hammer made with a solid hard wood han...</td>\n",
       "    </tr>\n",
       "    <tr>\n",
       "      <th>6</th>\n",
       "      <td>59</td>\n",
       "      <td>10-1-2021</td>\n",
       "      <td>9</td>\n",
       "      <td>46.15</td>\n",
       "      <td>.23</td>\n",
       "      <td>EN</td>\n",
       "      <td>P59ME2TL9.jpg</td>\n",
       "      <td>Granite Shovel</td>\n",
       "      <td>Shovel has removable aluminum handle and heat ...</td>\n",
       "    </tr>\n",
       "    <tr>\n",
       "      <th>7</th>\n",
       "      <td>60</td>\n",
       "      <td>10-1-2021</td>\n",
       "      <td>9</td>\n",
       "      <td>10</td>\n",
       "      <td>.5</td>\n",
       "      <td>P60ME2TL9.jpg</td>\n",
       "      <td>EN</td>\n",
       "      <td>Granite Grip</td>\n",
       "      <td>All-purpose stainless steel pliers. Sheath inc...</td>\n",
       "    </tr>\n",
       "    <tr>\n",
       "      <th>...</th>\n",
       "      <td>...</td>\n",
       "      <td>...</td>\n",
       "      <td>...</td>\n",
       "      <td>...</td>\n",
       "      <td>...</td>\n",
       "      <td>...</td>\n",
       "      <td>...</td>\n",
       "      <td>...</td>\n",
       "      <td>...</td>\n",
       "    </tr>\n",
       "    <tr>\n",
       "      <th>108</th>\n",
       "      <td>106</td>\n",
       "      <td>5-12-2019</td>\n",
       "      <td>19</td>\n",
       "      <td>536.09</td>\n",
       "      <td>.43</td>\n",
       "      <td>P106GE5WD19.jpg</td>\n",
       "      <td>EN</td>\n",
       "      <td>Hailstorm Steel Woods Set</td>\n",
       "      <td>These steel woods are manufactured to exact to...</td>\n",
       "    </tr>\n",
       "    <tr>\n",
       "      <th>109</th>\n",
       "      <td>107</td>\n",
       "      <td>13-1-2020</td>\n",
       "      <td>19</td>\n",
       "      <td>509.07</td>\n",
       "      <td>.55</td>\n",
       "      <td>P105GE5WD19.jpg</td>\n",
       "      <td>EN</td>\n",
       "      <td>Lady Hailstorm Titanium Woods Set</td>\n",
       "      <td>Crafted of 6-4 titanium which is 40% lighter a...</td>\n",
       "    </tr>\n",
       "    <tr>\n",
       "      <th>111</th>\n",
       "      <td>109</td>\n",
       "      <td>10-12-2019</td>\n",
       "      <td>20</td>\n",
       "      <td>35</td>\n",
       "      <td>.43</td>\n",
       "      <td>P109GE5PT20.jpg</td>\n",
       "      <td>EN</td>\n",
       "      <td>Course Pro Putter</td>\n",
       "      <td>High quality putter is cast  from a soft yello...</td>\n",
       "    </tr>\n",
       "    <tr>\n",
       "      <th>112</th>\n",
       "      <td>110</td>\n",
       "      <td>Blue Steel Putter</td>\n",
       "      <td>20</td>\n",
       "      <td>60</td>\n",
       "      <td>.5</td>\n",
       "      <td>P110GE5PT20.jpg</td>\n",
       "      <td>EN</td>\n",
       "      <td>10-12-2019</td>\n",
       "      <td>This premium putter has copper mixed with ligh...</td>\n",
       "    </tr>\n",
       "    <tr>\n",
       "      <th>113</th>\n",
       "      <td>111</td>\n",
       "      <td>15-12-2019</td>\n",
       "      <td>20</td>\n",
       "      <td>81.8</td>\n",
       "      <td>P111GE5PT20.jpg</td>\n",
       "      <td>.55</td>\n",
       "      <td>EN</td>\n",
       "      <td>Blue Steel Max Putter</td>\n",
       "      <td>Putter head is composed from a single piece of...</td>\n",
       "    </tr>\n",
       "  </tbody>\n",
       "</table>\n",
       "<p>84 rows × 9 columns</p>\n",
       "</div>"
      ],
      "text/plain": [
       "    PRODUCT_NUMBER  INTRODUCTION_DATE PRODUCT_TYPE_CODE PRODUCTION_COST  \\\n",
       "0               53          10-1-2021                 8           28.55   \n",
       "4               57          10-1-2021                 9              40   \n",
       "5               58          10-1-2021                 9           57.13   \n",
       "6               59          10-1-2021                 9           46.15   \n",
       "7               60          10-1-2021                 9              10   \n",
       "..             ...                ...               ...             ...   \n",
       "108            106          5-12-2019                19          536.09   \n",
       "109            107          13-1-2020                19          509.07   \n",
       "111            109         10-12-2019                20              35   \n",
       "112            110  Blue Steel Putter                20              60   \n",
       "113            111         15-12-2019                20            81.8   \n",
       "\n",
       "              MARGIN    PRODUCT_IMAGE       LANGUAGE  \\\n",
       "0                .28    P53ME2CA8.jpg             EN   \n",
       "4                 .5    P57ME2TL9.jpg             EN   \n",
       "5                .28    P58ME2TL9.jpg             EN   \n",
       "6                .23               EN  P59ME2TL9.jpg   \n",
       "7                 .5    P60ME2TL9.jpg             EN   \n",
       "..               ...              ...            ...   \n",
       "108              .43  P106GE5WD19.jpg             EN   \n",
       "109              .55  P105GE5WD19.jpg             EN   \n",
       "111              .43  P109GE5PT20.jpg             EN   \n",
       "112               .5  P110GE5PT20.jpg             EN   \n",
       "113  P111GE5PT20.jpg              .55             EN   \n",
       "\n",
       "                          PRODUCT_NAME  \\\n",
       "0                Firefly Climbing Lamp   \n",
       "4                          Granite Ice   \n",
       "5                       Granite Hammer   \n",
       "6                       Granite Shovel   \n",
       "7                         Granite Grip   \n",
       "..                                 ...   \n",
       "108          Hailstorm Steel Woods Set   \n",
       "109  Lady Hailstorm Titanium Woods Set   \n",
       "111                  Course Pro Putter   \n",
       "112                         10-12-2019   \n",
       "113              Blue Steel Max Putter   \n",
       "\n",
       "                                           DESCRIPTION  \n",
       "0    This climbing lamp is water-resistant. It come...  \n",
       "4    A general purpose mountaineering axe for snow ...  \n",
       "5    A solid hammer made with a solid hard wood han...  \n",
       "6    Shovel has removable aluminum handle and heat ...  \n",
       "7    All-purpose stainless steel pliers. Sheath inc...  \n",
       "..                                                 ...  \n",
       "108  These steel woods are manufactured to exact to...  \n",
       "109  Crafted of 6-4 titanium which is 40% lighter a...  \n",
       "111  High quality putter is cast  from a soft yello...  \n",
       "112  This premium putter has copper mixed with ligh...  \n",
       "113  Putter head is composed from a single piece of...  \n",
       "\n",
       "[84 rows x 9 columns]"
      ]
     },
     "execution_count": 3,
     "metadata": {},
     "output_type": "execute_result"
    }
   ],
   "source": [
    "product = pd.read_sql(\"SELECT * FROM product\", sales_conn)\n",
    "product = product.dropna()\n",
    "product"
   ]
  },
  {
   "cell_type": "markdown",
   "id": "71b9c3ca",
   "metadata": {},
   "source": [
    "## Verwisselde waarden opsporen en afhandelen"
   ]
  },
  {
   "cell_type": "markdown",
   "id": "c5eb8d4b",
   "metadata": {},
   "source": [
    "Zoals jullie ongetwijfeld in de vorige weken al hebben gezien laat in de tabel product, en dergelijke databasetabellen, de datakwaliteit, los van de missende waarden, te wensen over. Er zijn namelijk rijen waarin tussen bepaalde kolommen de waarden namelijk verwisseld zijn. Waar we in het vorige Notebook nog gebruik konden maken van een handige ProfileReport, waarin alle missende waarden werden opgespoord, moeten we hier zelf handmatig code opschrijven voor het speurwerk naar kwaliteitsgebreken.\n",
    "\n",
    "Let op! In dit Notebook zijn, zeer oneerbiedig, alle rijen uit de dataset met missende waarden erin weggehaald, omwille van de snelheid! In het vorige hoorcollege hebben jullie geleerd hoe jullie hiermee omgaan m.b.t. categorische data en in het volgende hoorcollege leren jullie dit voor de continue data."
   ]
  },
  {
   "cell_type": "markdown",
   "id": "38d92aa8",
   "metadata": {},
   "source": [
    "## De eerste Sherlock-Holmesstap: .dtypes toepassen"
   ]
  },
  {
   "cell_type": "markdown",
   "id": "ac8f09bf",
   "metadata": {},
   "source": [
    "We achterhalen eerst het datatype per kolom om te kijken of deze logisch is. We weten al dat we dat kunnen doen met .dtypes."
   ]
  },
  {
   "cell_type": "code",
   "execution_count": 4,
   "id": "4a0cf99e",
   "metadata": {},
   "outputs": [
    {
     "data": {
      "text/plain": [
       "PRODUCT_NUMBER       object\n",
       "INTRODUCTION_DATE    object\n",
       "PRODUCT_TYPE_CODE    object\n",
       "PRODUCTION_COST      object\n",
       "MARGIN               object\n",
       "PRODUCT_IMAGE        object\n",
       "LANGUAGE             object\n",
       "PRODUCT_NAME         object\n",
       "DESCRIPTION          object\n",
       "dtype: object"
      ]
     },
     "execution_count": 4,
     "metadata": {},
     "output_type": "execute_result"
    }
   ],
   "source": [
    "product.dtypes"
   ]
  },
  {
   "cell_type": "markdown",
   "id": "e598324a",
   "metadata": {},
   "source": [
    "We weten ook al dat 'object' het Pythonequivalent is voor strings. In dit geval zien de datatypen er over het algemeen goed uit, maar... bij een aantal kolommen hadden we getallen verwacht. Zullen we als eerst twee lijsten maken, waarvan een met de namen van alle numerieke, en de ander met de namen van alle niet-numerieke kolommen?"
   ]
  },
  {
   "cell_type": "code",
   "execution_count": 5,
   "id": "b41252ab",
   "metadata": {},
   "outputs": [
    {
     "data": {
      "text/plain": [
       "['INTRODUCTION_DATE',\n",
       " 'PRODUCT_IMAGE',\n",
       " 'LANGUAGE',\n",
       " 'PRODUCT_NAME',\n",
       " 'DESCRIPTION']"
      ]
     },
     "execution_count": 5,
     "metadata": {},
     "output_type": "execute_result"
    }
   ],
   "source": [
    "numeric_columns = ['PRODUCT_NUMBER', 'PRODUCT_TYPE_CODE', 'PRODUCTION_COST', 'MARGIN']\n",
    "non_numeric_columns = list(product.drop(numeric_columns, axis = 1).columns)\n",
    "non_numeric_columns"
   ]
  },
  {
   "cell_type": "markdown",
   "id": "3b062d07",
   "metadata": {},
   "source": [
    "Zullen we eens proberen, volgens Pythoncode die we al kennen, om de derde numerieke kolom, PRODUCTION_COST, om te zetten naar een float? Uncomment de volgende regel door de hashtag (#) weg te halen!"
   ]
  },
  {
   "cell_type": "code",
   "execution_count": 6,
   "id": "4e3a8a9c",
   "metadata": {},
   "outputs": [],
   "source": [
    "# product['PRODUCTION_COST'] = product['PRODUCTION_COST'].astype(float)"
   ]
  },
  {
   "cell_type": "markdown",
   "id": "6dfdefc9",
   "metadata": {},
   "source": [
    "Tja... wat moeten we hier nou van denken? Python probeert een hele string ('Acrylex lenses (...)') om te zetten naar een float, en dat is technisch niet mogelijk. Met andere woorden: we weten nu dat in de kolom PRODUCTION_COST minstens 1 foutieve string-/objectwaarde staat. Daarmee is voor deze kolom de eerste stap in het speurwerk gezet."
   ]
  },
  {
   "cell_type": "markdown",
   "id": "00f88dd0",
   "metadata": {},
   "source": [
    "## Indexen van foutieve rijen achterhalen"
   ]
  },
  {
   "cell_type": "markdown",
   "id": "0419a5b0",
   "metadata": {},
   "source": [
    "Allemaal hartstikke leuk, maar... wat is nou de volgende stap? We zullen moeten achterhalen wat de indexen zijn van de rijen waartussen de waarden van twee kolommen 'geswapt' dienen te worden. Laten we daarvoor eerst een dictionary maken. Deze lijkt erg op een lijst, die we al eerder hebben gezien, maar nu worden waarden niet opgehaald met een index, maar met een bepaalde 'key'. Ter illustratie even het onderstaande voorbeeld:"
   ]
  },
  {
   "cell_type": "code",
   "execution_count": 7,
   "id": "c0a7e845",
   "metadata": {},
   "outputs": [
    {
     "name": "stdout",
     "output_type": "stream",
     "text": [
      "41\n"
     ]
    }
   ],
   "source": [
    "my_first_dict = {'Michael' : 41, 'Jim' : 24, 'Pam' : 23}\n",
    "print(my_first_dict['Michael'])"
   ]
  },
  {
   "cell_type": "markdown",
   "id": "f74e6ed6",
   "metadata": {},
   "source": [
    "We hebben onze eerste dictionary gemaakt, bestaande uit drie key-value-pairs. De paren worden gescheiden door een komma, daarbinnen worden de key en de value gescheiden door een dubbele punt. Waar we voorheen tussen de blokhaken altijd indexen neer hebben gezet om waarden op te halen, kunnen we dat nu doen met de key die eraan is meegegeven. In dit geval halen we de leeftijd van Michael (van The Office, herkennen we de namen? ;-) ) op door de waarde aan te roepen die bij de key 'Michael' hoort."
   ]
  },
  {
   "cell_type": "markdown",
   "id": "3385286f",
   "metadata": {},
   "source": [
    "Lijsten en dictionaries zijn allebei datatypen in Python waarin je meerdere waarden kan opslaan. De kracht hiervan ligt in hun combineerbaarheid, zoals te zien in onderstaande code."
   ]
  },
  {
   "cell_type": "code",
   "execution_count": 8,
   "id": "b7317cb7",
   "metadata": {},
   "outputs": [
    {
     "data": {
      "text/plain": [
       "{0: [],\n",
       " 4: [],\n",
       " 5: [],\n",
       " 6: [],\n",
       " 7: [],\n",
       " 9: [],\n",
       " 10: [],\n",
       " 11: [],\n",
       " 12: [],\n",
       " 15: [],\n",
       " 18: [],\n",
       " 19: [],\n",
       " 20: [],\n",
       " 21: [],\n",
       " 22: [],\n",
       " 23: [],\n",
       " 24: [],\n",
       " 26: [],\n",
       " 27: [],\n",
       " 28: [],\n",
       " 32: [],\n",
       " 33: [],\n",
       " 34: [],\n",
       " 37: [],\n",
       " 38: [],\n",
       " 39: [],\n",
       " 40: [],\n",
       " 41: [],\n",
       " 42: [],\n",
       " 43: [],\n",
       " 44: [],\n",
       " 45: [],\n",
       " 46: [],\n",
       " 48: [],\n",
       " 49: [],\n",
       " 50: [],\n",
       " 51: [],\n",
       " 52: [],\n",
       " 53: [],\n",
       " 54: [],\n",
       " 56: [],\n",
       " 57: [],\n",
       " 58: [],\n",
       " 59: [],\n",
       " 60: [],\n",
       " 61: [],\n",
       " 63: [],\n",
       " 64: [],\n",
       " 66: [],\n",
       " 68: [],\n",
       " 69: [],\n",
       " 70: [],\n",
       " 71: [],\n",
       " 73: [],\n",
       " 74: [],\n",
       " 75: [],\n",
       " 76: [],\n",
       " 77: [],\n",
       " 78: [],\n",
       " 80: [],\n",
       " 81: [],\n",
       " 82: [],\n",
       " 83: [],\n",
       " 84: [],\n",
       " 85: [],\n",
       " 86: [],\n",
       " 87: [],\n",
       " 92: [],\n",
       " 93: [],\n",
       " 94: [],\n",
       " 95: [],\n",
       " 96: [],\n",
       " 97: [],\n",
       " 98: [],\n",
       " 100: [],\n",
       " 102: [],\n",
       " 103: [],\n",
       " 105: [],\n",
       " 106: [],\n",
       " 108: [],\n",
       " 109: [],\n",
       " 111: [],\n",
       " 112: [],\n",
       " 113: []}"
      ]
     },
     "execution_count": 8,
     "metadata": {},
     "output_type": "execute_result"
    }
   ],
   "source": [
    "wrong_index_dict = dict()\n",
    "\n",
    "for index in product.index:\n",
    "    wrong_index_dict[index] = []\n",
    "\n",
    "wrong_index_dict"
   ]
  },
  {
   "cell_type": "markdown",
   "id": "1f3f0c87",
   "metadata": {},
   "source": [
    "De producttabel wordt doorlopen en van elke index wordt een key gemaakt. Elke value wordt geïnitialiseerd op een nu nog lege lijst ([]). Dit is een handige structuur om per rij, waartussen elke index per definitie verschilt, de 2 kolomnamen bij te houden waartussen waarden geswapt moeten worden."
   ]
  },
  {
   "cell_type": "code",
   "execution_count": 9,
   "id": "01150030",
   "metadata": {},
   "outputs": [
    {
     "data": {
      "text/plain": [
       "{0: [],\n",
       " 4: [],\n",
       " 5: [],\n",
       " 6: [],\n",
       " 7: [],\n",
       " 9: [],\n",
       " 10: [],\n",
       " 11: [],\n",
       " 12: [],\n",
       " 15: [],\n",
       " 18: ['PRODUCTION_COST', 'DESCRIPTION'],\n",
       " 19: [],\n",
       " 20: [],\n",
       " 21: [],\n",
       " 22: [],\n",
       " 23: [],\n",
       " 24: [],\n",
       " 26: [],\n",
       " 27: [],\n",
       " 28: [],\n",
       " 32: [],\n",
       " 33: [],\n",
       " 34: [],\n",
       " 37: [],\n",
       " 38: [],\n",
       " 39: [],\n",
       " 40: [],\n",
       " 41: [],\n",
       " 42: [],\n",
       " 43: [],\n",
       " 44: ['PRODUCTION_COST', 'PRODUCT_IMAGE'],\n",
       " 45: [],\n",
       " 46: [],\n",
       " 48: [],\n",
       " 49: ['PRODUCTION_COST', 'DESCRIPTION'],\n",
       " 50: [],\n",
       " 51: [],\n",
       " 52: [],\n",
       " 53: [],\n",
       " 54: [],\n",
       " 56: [],\n",
       " 57: ['MARGIN', 'PRODUCT_NAME'],\n",
       " 58: [],\n",
       " 59: [],\n",
       " 60: [],\n",
       " 61: [],\n",
       " 63: [],\n",
       " 64: [],\n",
       " 66: [],\n",
       " 68: ['MARGIN', 'INTRODUCTION_DATE'],\n",
       " 69: ['PRODUCTION_COST', 'DESCRIPTION'],\n",
       " 70: [],\n",
       " 71: [],\n",
       " 73: [],\n",
       " 74: [],\n",
       " 75: [],\n",
       " 76: [],\n",
       " 77: [],\n",
       " 78: ['PRODUCTION_COST', 'DESCRIPTION'],\n",
       " 80: [],\n",
       " 81: [],\n",
       " 82: [],\n",
       " 83: [],\n",
       " 84: ['MARGIN', 'INTRODUCTION_DATE'],\n",
       " 85: ['PRODUCTION_COST', 'PRODUCT_NAME'],\n",
       " 86: [],\n",
       " 87: [],\n",
       " 92: [],\n",
       " 93: [],\n",
       " 94: [],\n",
       " 95: [],\n",
       " 96: [],\n",
       " 97: [],\n",
       " 98: [],\n",
       " 100: [],\n",
       " 102: [],\n",
       " 103: [],\n",
       " 105: [],\n",
       " 106: [],\n",
       " 108: [],\n",
       " 109: [],\n",
       " 111: [],\n",
       " 112: [],\n",
       " 113: ['MARGIN', 'PRODUCT_IMAGE']}"
      ]
     },
     "execution_count": 9,
     "metadata": {},
     "output_type": "execute_result"
    }
   ],
   "source": [
    "for numeric_column in numeric_columns:\n",
    "    #Stringwaarden vinden in numerieke kolommen:\n",
    "    wrong_rows = product.loc[pd.to_numeric(product[numeric_column], errors = 'coerce').isnull(), [numeric_column]]\n",
    "    \n",
    "    for index, row in wrong_rows.iterrows():\n",
    "        wrong_index_dict[index].append(numeric_column)\n",
    "    \n",
    "for non_numeric_column in non_numeric_columns:\n",
    "    #Numerieke waarden vinden in stringkolommen\n",
    "    wrong_rows = product.loc[~pd.to_numeric(product[non_numeric_column], errors = 'coerce').isnull(), [non_numeric_column]]\n",
    "    \n",
    "    for index, row in wrong_rows.iterrows():\n",
    "        wrong_index_dict[index].append(non_numeric_column)\n",
    "    \n",
    "wrong_index_dict"
   ]
  },
  {
   "cell_type": "markdown",
   "id": "7e92424b",
   "metadata": {},
   "source": [
    "Pfoe... lots to digest (and to write ;-)). In stukjes...\n",
    "\n",
    "Allereerst lopen we alle numerieke kolommen door waarvan we weten dat daar niet-numerieke waarden in voorkomen. Eerder in dit Notebook hebben we de numerieke kolomnamen  opgeslagen in numeric_columns. Per kolomnaam zijn de volgende operaties samengevat in drie coderegels:\n",
    "- Met pd.to_numeric() wordt bij elke waarde geprobeerd deze naar een getal om te zetten. Als dat niet lukt, zorgt \"errors = 'coerce' ervoor dat deze waarden vervangen worden door NULL.\n",
    "- Vervolgens wordt met .isnull() bepaald of de betreffende kolom inmiddels leeggemaakte waarden bevat. Als dat zo is wordt de betreffende rij aan 'wrong_rows' toegevoegd.\n",
    "- Ten slotte wordt met behulp van de loop elke kolom uit 'wrong_rows' toegevoegd aan de betreffende index in de dictionary.\n",
    "\n",
    "Vervolgens draaien we het om: we lopen nu niet-numerieke kolommen langs om te kijken of zij stiekem hier en daar toch een getal bevatten. Ook deze worden, op dezelfde manier als hierboven beschreven, toegewezen aan de juiste plek in de dictionary."
   ]
  },
  {
   "cell_type": "markdown",
   "id": "7823e195",
   "metadata": {},
   "source": [
    "Helaas is de uitkomst van bovenstaande code een supergrote dictionary, waarvan het overgrote deel de juiste waarden in de juiste kolommen heeft staan (te herkennen aan de lege lijst: []). Daarom onderzoekt de onderstaande code welke indexen wél een gevulde lijst hebben en past hij op de betreffende index in de producttabel meteen de 'swap' toe."
   ]
  },
  {
   "cell_type": "code",
   "execution_count": 10,
   "id": "debe341a",
   "metadata": {},
   "outputs": [
    {
     "data": {
      "text/html": [
       "<div>\n",
       "<style scoped>\n",
       "    .dataframe tbody tr th:only-of-type {\n",
       "        vertical-align: middle;\n",
       "    }\n",
       "\n",
       "    .dataframe tbody tr th {\n",
       "        vertical-align: top;\n",
       "    }\n",
       "\n",
       "    .dataframe thead th {\n",
       "        text-align: right;\n",
       "    }\n",
       "</style>\n",
       "<table border=\"1\" class=\"dataframe\">\n",
       "  <thead>\n",
       "    <tr style=\"text-align: right;\">\n",
       "      <th></th>\n",
       "      <th>PRODUCT_NUMBER</th>\n",
       "      <th>INTRODUCTION_DATE</th>\n",
       "      <th>PRODUCT_TYPE_CODE</th>\n",
       "      <th>PRODUCTION_COST</th>\n",
       "      <th>MARGIN</th>\n",
       "      <th>PRODUCT_IMAGE</th>\n",
       "      <th>LANGUAGE</th>\n",
       "      <th>PRODUCT_NAME</th>\n",
       "      <th>DESCRIPTION</th>\n",
       "    </tr>\n",
       "  </thead>\n",
       "  <tbody>\n",
       "    <tr>\n",
       "      <th>0</th>\n",
       "      <td>53</td>\n",
       "      <td>10-1-2021</td>\n",
       "      <td>8</td>\n",
       "      <td>28.55</td>\n",
       "      <td>.28</td>\n",
       "      <td>P53ME2CA8.jpg</td>\n",
       "      <td>EN</td>\n",
       "      <td>Firefly Climbing Lamp</td>\n",
       "      <td>This climbing lamp is water-resistant. It come...</td>\n",
       "    </tr>\n",
       "    <tr>\n",
       "      <th>4</th>\n",
       "      <td>57</td>\n",
       "      <td>10-1-2021</td>\n",
       "      <td>9</td>\n",
       "      <td>40</td>\n",
       "      <td>.5</td>\n",
       "      <td>P57ME2TL9.jpg</td>\n",
       "      <td>EN</td>\n",
       "      <td>Granite Ice</td>\n",
       "      <td>A general purpose mountaineering axe for snow ...</td>\n",
       "    </tr>\n",
       "    <tr>\n",
       "      <th>5</th>\n",
       "      <td>58</td>\n",
       "      <td>10-1-2021</td>\n",
       "      <td>9</td>\n",
       "      <td>57.13</td>\n",
       "      <td>.28</td>\n",
       "      <td>P58ME2TL9.jpg</td>\n",
       "      <td>EN</td>\n",
       "      <td>Granite Hammer</td>\n",
       "      <td>A solid hammer made with a solid hard wood han...</td>\n",
       "    </tr>\n",
       "    <tr>\n",
       "      <th>6</th>\n",
       "      <td>59</td>\n",
       "      <td>10-1-2021</td>\n",
       "      <td>9</td>\n",
       "      <td>46.15</td>\n",
       "      <td>.23</td>\n",
       "      <td>EN</td>\n",
       "      <td>P59ME2TL9.jpg</td>\n",
       "      <td>Granite Shovel</td>\n",
       "      <td>Shovel has removable aluminum handle and heat ...</td>\n",
       "    </tr>\n",
       "    <tr>\n",
       "      <th>7</th>\n",
       "      <td>60</td>\n",
       "      <td>10-1-2021</td>\n",
       "      <td>9</td>\n",
       "      <td>10</td>\n",
       "      <td>.5</td>\n",
       "      <td>P60ME2TL9.jpg</td>\n",
       "      <td>EN</td>\n",
       "      <td>Granite Grip</td>\n",
       "      <td>All-purpose stainless steel pliers. Sheath inc...</td>\n",
       "    </tr>\n",
       "    <tr>\n",
       "      <th>...</th>\n",
       "      <td>...</td>\n",
       "      <td>...</td>\n",
       "      <td>...</td>\n",
       "      <td>...</td>\n",
       "      <td>...</td>\n",
       "      <td>...</td>\n",
       "      <td>...</td>\n",
       "      <td>...</td>\n",
       "      <td>...</td>\n",
       "    </tr>\n",
       "    <tr>\n",
       "      <th>108</th>\n",
       "      <td>106</td>\n",
       "      <td>5-12-2019</td>\n",
       "      <td>19</td>\n",
       "      <td>536.09</td>\n",
       "      <td>.43</td>\n",
       "      <td>P106GE5WD19.jpg</td>\n",
       "      <td>EN</td>\n",
       "      <td>Hailstorm Steel Woods Set</td>\n",
       "      <td>These steel woods are manufactured to exact to...</td>\n",
       "    </tr>\n",
       "    <tr>\n",
       "      <th>109</th>\n",
       "      <td>107</td>\n",
       "      <td>13-1-2020</td>\n",
       "      <td>19</td>\n",
       "      <td>509.07</td>\n",
       "      <td>.55</td>\n",
       "      <td>P105GE5WD19.jpg</td>\n",
       "      <td>EN</td>\n",
       "      <td>Lady Hailstorm Titanium Woods Set</td>\n",
       "      <td>Crafted of 6-4 titanium which is 40% lighter a...</td>\n",
       "    </tr>\n",
       "    <tr>\n",
       "      <th>111</th>\n",
       "      <td>109</td>\n",
       "      <td>10-12-2019</td>\n",
       "      <td>20</td>\n",
       "      <td>35</td>\n",
       "      <td>.43</td>\n",
       "      <td>P109GE5PT20.jpg</td>\n",
       "      <td>EN</td>\n",
       "      <td>Course Pro Putter</td>\n",
       "      <td>High quality putter is cast  from a soft yello...</td>\n",
       "    </tr>\n",
       "    <tr>\n",
       "      <th>112</th>\n",
       "      <td>110</td>\n",
       "      <td>Blue Steel Putter</td>\n",
       "      <td>20</td>\n",
       "      <td>60</td>\n",
       "      <td>.5</td>\n",
       "      <td>P110GE5PT20.jpg</td>\n",
       "      <td>EN</td>\n",
       "      <td>10-12-2019</td>\n",
       "      <td>This premium putter has copper mixed with ligh...</td>\n",
       "    </tr>\n",
       "    <tr>\n",
       "      <th>113</th>\n",
       "      <td>111</td>\n",
       "      <td>15-12-2019</td>\n",
       "      <td>20</td>\n",
       "      <td>81.8</td>\n",
       "      <td>.55</td>\n",
       "      <td>P111GE5PT20.jpg</td>\n",
       "      <td>EN</td>\n",
       "      <td>Blue Steel Max Putter</td>\n",
       "      <td>Putter head is composed from a single piece of...</td>\n",
       "    </tr>\n",
       "  </tbody>\n",
       "</table>\n",
       "<p>84 rows × 9 columns</p>\n",
       "</div>"
      ],
      "text/plain": [
       "    PRODUCT_NUMBER  INTRODUCTION_DATE PRODUCT_TYPE_CODE PRODUCTION_COST  \\\n",
       "0               53          10-1-2021                 8           28.55   \n",
       "4               57          10-1-2021                 9              40   \n",
       "5               58          10-1-2021                 9           57.13   \n",
       "6               59          10-1-2021                 9           46.15   \n",
       "7               60          10-1-2021                 9              10   \n",
       "..             ...                ...               ...             ...   \n",
       "108            106          5-12-2019                19          536.09   \n",
       "109            107          13-1-2020                19          509.07   \n",
       "111            109         10-12-2019                20              35   \n",
       "112            110  Blue Steel Putter                20              60   \n",
       "113            111         15-12-2019                20            81.8   \n",
       "\n",
       "    MARGIN    PRODUCT_IMAGE       LANGUAGE                       PRODUCT_NAME  \\\n",
       "0      .28    P53ME2CA8.jpg             EN              Firefly Climbing Lamp   \n",
       "4       .5    P57ME2TL9.jpg             EN                        Granite Ice   \n",
       "5      .28    P58ME2TL9.jpg             EN                     Granite Hammer   \n",
       "6      .23               EN  P59ME2TL9.jpg                     Granite Shovel   \n",
       "7       .5    P60ME2TL9.jpg             EN                       Granite Grip   \n",
       "..     ...              ...            ...                                ...   \n",
       "108    .43  P106GE5WD19.jpg             EN          Hailstorm Steel Woods Set   \n",
       "109    .55  P105GE5WD19.jpg             EN  Lady Hailstorm Titanium Woods Set   \n",
       "111    .43  P109GE5PT20.jpg             EN                  Course Pro Putter   \n",
       "112     .5  P110GE5PT20.jpg             EN                         10-12-2019   \n",
       "113    .55  P111GE5PT20.jpg             EN              Blue Steel Max Putter   \n",
       "\n",
       "                                           DESCRIPTION  \n",
       "0    This climbing lamp is water-resistant. It come...  \n",
       "4    A general purpose mountaineering axe for snow ...  \n",
       "5    A solid hammer made with a solid hard wood han...  \n",
       "6    Shovel has removable aluminum handle and heat ...  \n",
       "7    All-purpose stainless steel pliers. Sheath inc...  \n",
       "..                                                 ...  \n",
       "108  These steel woods are manufactured to exact to...  \n",
       "109  Crafted of 6-4 titanium which is 40% lighter a...  \n",
       "111  High quality putter is cast  from a soft yello...  \n",
       "112  This premium putter has copper mixed with ligh...  \n",
       "113  Putter head is composed from a single piece of...  \n",
       "\n",
       "[84 rows x 9 columns]"
      ]
     },
     "execution_count": 10,
     "metadata": {},
     "output_type": "execute_result"
    }
   ],
   "source": [
    "for key_value_pair in list(wrong_index_dict.items()):\n",
    "    \n",
    "    if(key_value_pair[1]): #Als er minstens 1 item gevuld is op de index...\n",
    "        index = key_value_pair[0]\n",
    "        kolom1 = key_value_pair[1][0]\n",
    "        kolom2 = key_value_pair[1][1]\n",
    "        \n",
    "        product.loc[product.index == index, [kolom1, kolom2]] = product.loc[product.index == index, [kolom2, kolom1]].values\n",
    "\n",
    "product"
   ]
  },
  {
   "cell_type": "markdown",
   "id": "2e88d567",
   "metadata": {},
   "source": [
    "Als kers op de taart kunnen we controleren of een dataconversie nu wel goed gaat."
   ]
  },
  {
   "cell_type": "code",
   "execution_count": 13,
   "id": "eccd0a0d",
   "metadata": {},
   "outputs": [
    {
     "data": {
      "text/plain": [
       "PRODUCT_NUMBER        object\n",
       "INTRODUCTION_DATE     object\n",
       "PRODUCT_TYPE_CODE     object\n",
       "PRODUCTION_COST      float64\n",
       "MARGIN                object\n",
       "PRODUCT_IMAGE         object\n",
       "LANGUAGE              object\n",
       "PRODUCT_NAME          object\n",
       "DESCRIPTION           object\n",
       "dtype: object"
      ]
     },
     "execution_count": 13,
     "metadata": {},
     "output_type": "execute_result"
    }
   ],
   "source": [
    "product['PRODUCTION_COST'] = product['PRODUCTION_COST'].astype(float)\n",
    "product.dtypes"
   ]
  },
  {
   "cell_type": "markdown",
   "id": "74d740da",
   "metadata": {},
   "source": [
    "We zien dat de operatie helemaal is geslaagd. Er staat nu 'float64' achter PRODUCTION_COST, ten teken dat we de 'swap-operatie' m.b.t. deze kolom helemaal goed hebben gedaan."
   ]
  }
 ],
 "metadata": {
  "kernelspec": {
   "display_name": "Python 3 (ipykernel)",
   "language": "python",
   "name": "python3"
  },
  "language_info": {
   "codemirror_mode": {
    "name": "ipython",
    "version": 3
   },
   "file_extension": ".py",
   "mimetype": "text/x-python",
   "name": "python",
   "nbconvert_exporter": "python",
   "pygments_lexer": "ipython3",
   "version": "3.9.13"
  }
 },
 "nbformat": 4,
 "nbformat_minor": 5
}
