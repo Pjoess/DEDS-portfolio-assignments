{
 "cells": [
  {
   "cell_type": "code",
   "execution_count": 1,
   "id": "09e8f4e5",
   "metadata": {},
   "outputs": [],
   "source": [
    "import pandas as pd\n",
    "import pyodbc"
   ]
  },
  {
   "cell_type": "code",
   "execution_count": 2,
   "id": "f2eb2f27",
   "metadata": {},
   "outputs": [],
   "source": [
    "sales_conn = pyodbc.connect(r'Driver={Microsoft Access Driver (*.mdb, *.accdb)};DBQ=C:/Users/Tim/Desktop/GO-databases DEDS-week 4 & 5/go_sales.accdb;')\n",
    "staff_conn = pyodbc.connect(r'Driver={Microsoft Access Driver (*.mdb, *.accdb)};DBQ=C:/Users/Tim/Desktop/GO-databases DEDS-week 4 & 5/go_staff.accdb;')\n",
    "crm_conn = pyodbc.connect(r'Driver={Microsoft Access Driver (*.mdb, *.accdb)};DBQ=C:/Users/Tim/Desktop/GO-databases DEDS-week 4 & 5/go_crm.accdb;')\n"
   ]
  },
  {
   "cell_type": "code",
   "execution_count": 3,
   "id": "77fedd64",
   "metadata": {},
   "outputs": [
    {
     "name": "stderr",
     "output_type": "stream",
     "text": [
      "C:\\Users\\Tim\\anaconda3\\lib\\site-packages\\pandas\\io\\sql.py:762: UserWarning: pandas only support SQLAlchemy connectable(engine/connection) ordatabase string URI or sqlite3 DBAPI2 connectionother DBAPI2 objects are not tested, please consider using SQLAlchemy\n",
      "  warnings.warn(\n"
     ]
    }
   ],
   "source": [
    "product = pd.read_sql(\"SELECT * FROM product\", sales_conn)\n"
   ]
  },
  {
   "cell_type": "code",
   "execution_count": 4,
   "id": "5831acbd",
   "metadata": {},
   "outputs": [
    {
     "name": "stderr",
     "output_type": "stream",
     "text": [
      "C:\\Users\\Tim\\anaconda3\\lib\\site-packages\\pandas\\io\\sql.py:762: UserWarning: pandas only support SQLAlchemy connectable(engine/connection) ordatabase string URI or sqlite3 DBAPI2 connectionother DBAPI2 objects are not tested, please consider using SQLAlchemy\n",
      "  warnings.warn(\n"
     ]
    }
   ],
   "source": [
    "types = pd.read_sql(\"SELECT * FROM product_type\", sales_conn)\n"
   ]
  },
  {
   "cell_type": "code",
   "execution_count": 5,
   "id": "3b6dd606",
   "metadata": {},
   "outputs": [
    {
     "name": "stderr",
     "output_type": "stream",
     "text": [
      "C:\\Users\\Tim\\anaconda3\\lib\\site-packages\\pandas\\io\\sql.py:762: UserWarning: pandas only support SQLAlchemy connectable(engine/connection) ordatabase string URI or sqlite3 DBAPI2 connectionother DBAPI2 objects are not tested, please consider using SQLAlchemy\n",
      "  warnings.warn(\n"
     ]
    }
   ],
   "source": [
    "orders = pd.read_sql(\"SELECT * FROM order_header\", sales_conn)\n"
   ]
  },
  {
   "cell_type": "code",
   "execution_count": 6,
   "id": "3e21a5db",
   "metadata": {},
   "outputs": [],
   "source": [
    "joined = pd.merge(product, types, on = 'PRODUCT_TYPE_CODE', how = 'inner')\n"
   ]
  },
  {
   "cell_type": "code",
   "execution_count": 7,
   "id": "9633eb7f",
   "metadata": {},
   "outputs": [],
   "source": [
    "product_ster = joined.drop(['LANGUAGE','PRODUCT_IMAGE','INTRODUCTION_DATE','PRODUCTION_COST','MARGIN','DESCRIPTION','PRODUCT_LINE_CODE'], axis = 1)\n"
   ]
  },
  {
   "cell_type": "code",
   "execution_count": 8,
   "id": "c70d2927",
   "metadata": {},
   "outputs": [],
   "source": [
    "verkoper = orders.drop(['RETAILER_CONTACT_CODE', 'SALES_STAFF_CODE', 'SALES_BRANCH_CODE', 'ORDER_DATE', 'ORDER_METHOD_CODE'], axis = 1)\n"
   ]
  },
  {
   "cell_type": "code",
   "execution_count": 9,
   "id": "8297079b",
   "metadata": {},
   "outputs": [
    {
     "name": "stderr",
     "output_type": "stream",
     "text": [
      "C:\\Users\\Tim\\anaconda3\\lib\\site-packages\\pandas\\io\\sql.py:762: UserWarning: pandas only support SQLAlchemy connectable(engine/connection) ordatabase string URI or sqlite3 DBAPI2 connectionother DBAPI2 objects are not tested, please consider using SQLAlchemy\n",
      "  warnings.warn(\n"
     ]
    }
   ],
   "source": [
    "reden = pd.read_sql(\"SELECT * FROM return_reason\", sales_conn)\n"
   ]
  },
  {
   "cell_type": "code",
   "execution_count": 10,
   "id": "a2aeff60",
   "metadata": {},
   "outputs": [],
   "source": [
    "datum = orders.drop(['ORDER_NUMBER', 'RETAILER_NAME', 'RETAILER_SITE_CODE', 'RETAILER_CONTACT_CODE', 'SALES_STAFF_CODE', 'SALES_BRANCH_CODE', 'ORDER_METHOD_CODE'], axis = 1)\n"
   ]
  },
  {
   "cell_type": "code",
   "execution_count": 11,
   "id": "fede1f99",
   "metadata": {},
   "outputs": [],
   "source": [
    "datum[\"YEAR\"] = datum[\"ORDER_DATE\"].dt.year\n",
    "datum[\"MONTH\"] = datum[\"ORDER_DATE\"].dt.month\n",
    "datum[\"DAY\"] = datum[\"ORDER_DATE\"].dt.day\n"
   ]
  },
  {
   "cell_type": "code",
   "execution_count": 12,
   "id": "3fac17ee",
   "metadata": {},
   "outputs": [
    {
     "name": "stderr",
     "output_type": "stream",
     "text": [
      "C:\\Users\\Tim\\anaconda3\\lib\\site-packages\\pandas\\io\\sql.py:762: UserWarning: pandas only support SQLAlchemy connectable(engine/connection) ordatabase string URI or sqlite3 DBAPI2 connectionother DBAPI2 objects are not tested, please consider using SQLAlchemy\n",
      "  warnings.warn(\n"
     ]
    }
   ],
   "source": [
    "order_details = pd.read_sql(\"SELECT * FROM order_details\", sales_conn)\n"
   ]
  },
  {
   "cell_type": "code",
   "execution_count": 13,
   "id": "36d0644b",
   "metadata": {},
   "outputs": [
    {
     "name": "stderr",
     "output_type": "stream",
     "text": [
      "C:\\Users\\Tim\\anaconda3\\lib\\site-packages\\pandas\\io\\sql.py:762: UserWarning: pandas only support SQLAlchemy connectable(engine/connection) ordatabase string URI or sqlite3 DBAPI2 connectionother DBAPI2 objects are not tested, please consider using SQLAlchemy\n",
      "  warnings.warn(\n"
     ]
    }
   ],
   "source": [
    "returned_item = pd.read_sql(\"SELECT * FROM returned_item\", sales_conn)\n"
   ]
  },
  {
   "cell_type": "code",
   "execution_count": 14,
   "id": "3dc5a32f",
   "metadata": {},
   "outputs": [],
   "source": [
    "feit = pd.merge(returned_item, order_details, on = 'ORDER_DETAIL_CODE', how = 'inner')\n"
   ]
  },
  {
   "cell_type": "code",
   "execution_count": 15,
   "id": "59c62517",
   "metadata": {},
   "outputs": [
    {
     "data": {
      "text/html": [
       "<div>\n",
       "<style scoped>\n",
       "    .dataframe tbody tr th:only-of-type {\n",
       "        vertical-align: middle;\n",
       "    }\n",
       "\n",
       "    .dataframe tbody tr th {\n",
       "        vertical-align: top;\n",
       "    }\n",
       "\n",
       "    .dataframe thead th {\n",
       "        text-align: right;\n",
       "    }\n",
       "</style>\n",
       "<table border=\"1\" class=\"dataframe\">\n",
       "  <thead>\n",
       "    <tr style=\"text-align: right;\">\n",
       "      <th></th>\n",
       "      <th>RETURN_CODE</th>\n",
       "      <th>ORDER_DETAIL_CODE</th>\n",
       "      <th>RETURN_REASON_CODE</th>\n",
       "      <th>RETURN_QUANTITY</th>\n",
       "      <th>ORDER_NUMBER</th>\n",
       "      <th>PRODUCT_NUMBER</th>\n",
       "      <th>UNIT_COST</th>\n",
       "      <th>UNIT_PRICE</th>\n",
       "      <th>UNIT_SALE_PRICE</th>\n",
       "    </tr>\n",
       "  </thead>\n",
       "  <tbody>\n",
       "    <tr>\n",
       "      <th>0</th>\n",
       "      <td>1491</td>\n",
       "      <td>84858</td>\n",
       "      <td>None</td>\n",
       "      <td>8</td>\n",
       "      <td>7446</td>\n",
       "      <td>6</td>\n",
       "      <td>87.63</td>\n",
       "      <td>123.56</td>\n",
       "      <td>123.56</td>\n",
       "    </tr>\n",
       "    <tr>\n",
       "      <th>1</th>\n",
       "      <td>1492</td>\n",
       "      <td>84440</td>\n",
       "      <td>2</td>\n",
       "      <td>2</td>\n",
       "      <td>7316</td>\n",
       "      <td>8</td>\n",
       "      <td>151.77</td>\n",
       "      <td>151.77</td>\n",
       "      <td>88.23</td>\n",
       "    </tr>\n",
       "    <tr>\n",
       "      <th>2</th>\n",
       "      <td>1493</td>\n",
       "      <td>84867</td>\n",
       "      <td>4</td>\n",
       "      <td>24-6-2021 09:23:14</td>\n",
       "      <td>7359</td>\n",
       "      <td>8</td>\n",
       "      <td>78.26</td>\n",
       "      <td>134.63</td>\n",
       "      <td>134.63</td>\n",
       "    </tr>\n",
       "    <tr>\n",
       "      <th>3</th>\n",
       "      <td>21-7-2021 00:00:09</td>\n",
       "      <td>84873</td>\n",
       "      <td>3</td>\n",
       "      <td>20</td>\n",
       "      <td>7448</td>\n",
       "      <td>8</td>\n",
       "      <td>None</td>\n",
       "      <td>134.63</td>\n",
       "      <td>126.16</td>\n",
       "    </tr>\n",
       "    <tr>\n",
       "      <th>4</th>\n",
       "      <td>1496</td>\n",
       "      <td>84488</td>\n",
       "      <td>None</td>\n",
       "      <td>2</td>\n",
       "      <td>7438</td>\n",
       "      <td>17</td>\n",
       "      <td>64.36</td>\n",
       "      <td>90.09</td>\n",
       "      <td>90.09</td>\n",
       "    </tr>\n",
       "    <tr>\n",
       "      <th>...</th>\n",
       "      <td>...</td>\n",
       "      <td>...</td>\n",
       "      <td>...</td>\n",
       "      <td>...</td>\n",
       "      <td>...</td>\n",
       "      <td>...</td>\n",
       "      <td>...</td>\n",
       "      <td>...</td>\n",
       "      <td>...</td>\n",
       "    </tr>\n",
       "    <tr>\n",
       "      <th>666</th>\n",
       "      <td>2464</td>\n",
       "      <td>114967</td>\n",
       "      <td>1</td>\n",
       "      <td>12</td>\n",
       "      <td>7623</td>\n",
       "      <td>63</td>\n",
       "      <td>30.63</td>\n",
       "      <td>45.97</td>\n",
       "      <td>38.31</td>\n",
       "    </tr>\n",
       "    <tr>\n",
       "      <th>667</th>\n",
       "      <td>2465</td>\n",
       "      <td>114972</td>\n",
       "      <td>3</td>\n",
       "      <td>6-6-2021 09:22:12</td>\n",
       "      <td>7625</td>\n",
       "      <td>66</td>\n",
       "      <td>69.68</td>\n",
       "      <td>92.91</td>\n",
       "      <td>46.45</td>\n",
       "    </tr>\n",
       "    <tr>\n",
       "      <th>668</th>\n",
       "      <td>2466</td>\n",
       "      <td>114983</td>\n",
       "      <td>5</td>\n",
       "      <td>66</td>\n",
       "      <td>7622</td>\n",
       "      <td>71</td>\n",
       "      <td>60.5</td>\n",
       "      <td>90.76</td>\n",
       "      <td>75.63</td>\n",
       "    </tr>\n",
       "    <tr>\n",
       "      <th>669</th>\n",
       "      <td>2467</td>\n",
       "      <td>115215</td>\n",
       "      <td>4</td>\n",
       "      <td>64</td>\n",
       "      <td>7630</td>\n",
       "      <td>73</td>\n",
       "      <td>8.56</td>\n",
       "      <td>11.98</td>\n",
       "      <td>10.27</td>\n",
       "    </tr>\n",
       "    <tr>\n",
       "      <th>670</th>\n",
       "      <td>2469</td>\n",
       "      <td>114848</td>\n",
       "      <td>3</td>\n",
       "      <td>82</td>\n",
       "      <td>7617</td>\n",
       "      <td>112</td>\n",
       "      <td>7.09</td>\n",
       "      <td>10.64</td>\n",
       "      <td>8.85</td>\n",
       "    </tr>\n",
       "  </tbody>\n",
       "</table>\n",
       "<p>671 rows × 9 columns</p>\n",
       "</div>"
      ],
      "text/plain": [
       "            RETURN_CODE ORDER_DETAIL_CODE RETURN_REASON_CODE  \\\n",
       "0                  1491             84858               None   \n",
       "1                  1492             84440                  2   \n",
       "2                  1493             84867                  4   \n",
       "3    21-7-2021 00:00:09             84873                  3   \n",
       "4                  1496             84488               None   \n",
       "..                  ...               ...                ...   \n",
       "666                2464            114967                  1   \n",
       "667                2465            114972                  3   \n",
       "668                2466            114983                  5   \n",
       "669                2467            115215                  4   \n",
       "670                2469            114848                  3   \n",
       "\n",
       "        RETURN_QUANTITY ORDER_NUMBER PRODUCT_NUMBER UNIT_COST UNIT_PRICE  \\\n",
       "0                     8         7446              6     87.63     123.56   \n",
       "1                     2         7316              8    151.77     151.77   \n",
       "2    24-6-2021 09:23:14         7359              8     78.26     134.63   \n",
       "3                    20         7448              8      None     134.63   \n",
       "4                     2         7438             17     64.36      90.09   \n",
       "..                  ...          ...            ...       ...        ...   \n",
       "666                  12         7623             63     30.63      45.97   \n",
       "667   6-6-2021 09:22:12         7625             66     69.68      92.91   \n",
       "668                  66         7622             71      60.5      90.76   \n",
       "669                  64         7630             73      8.56      11.98   \n",
       "670                  82         7617            112      7.09      10.64   \n",
       "\n",
       "    UNIT_SALE_PRICE  \n",
       "0            123.56  \n",
       "1             88.23  \n",
       "2            134.63  \n",
       "3            126.16  \n",
       "4             90.09  \n",
       "..              ...  \n",
       "666           38.31  \n",
       "667           46.45  \n",
       "668           75.63  \n",
       "669           10.27  \n",
       "670            8.85  \n",
       "\n",
       "[671 rows x 9 columns]"
      ]
     },
     "execution_count": 15,
     "metadata": {},
     "output_type": "execute_result"
    }
   ],
   "source": [
    "returned_producten = feit.drop(['RETURN_DATE', 'QUANTITY'], axis = 1)\n",
    "returned_producten"
   ]
  },
  {
   "cell_type": "code",
   "execution_count": null,
   "id": "38f47ed5",
   "metadata": {},
   "outputs": [],
   "source": []
  }
 ],
 "metadata": {
  "kernelspec": {
   "display_name": "Python 3 (ipykernel)",
   "language": "python",
   "name": "python3"
  },
  "language_info": {
   "codemirror_mode": {
    "name": "ipython",
    "version": 3
   },
   "file_extension": ".py",
   "mimetype": "text/x-python",
   "name": "python",
   "nbconvert_exporter": "python",
   "pygments_lexer": "ipython3",
   "version": "3.9.13"
  }
 },
 "nbformat": 4,
 "nbformat_minor": 5
}
